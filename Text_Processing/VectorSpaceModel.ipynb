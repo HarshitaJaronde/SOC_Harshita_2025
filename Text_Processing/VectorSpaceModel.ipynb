{
 "cells": [
  {
   "cell_type": "code",
   "execution_count": 2,
   "id": "3ca46c78-a2e8-460d-94fb-1aa07eb5ceba",
   "metadata": {},
   "outputs": [],
   "source": [
    "import pandas as pd"
   ]
  },
  {
   "cell_type": "code",
   "execution_count": 3,
   "id": "8ea005fd-2717-491d-8c55-64e6cdc09b06",
   "metadata": {},
   "outputs": [],
   "source": [
    "import numpy as np"
   ]
  },
  {
   "cell_type": "code",
   "execution_count": 4,
   "id": "7fb95b68-ca2c-4dc0-b3ff-c027d46d2413",
   "metadata": {},
   "outputs": [],
   "source": [
    "import math"
   ]
  },
  {
   "cell_type": "code",
   "execution_count": 5,
   "id": "b8252df1-7b58-42e8-9ab1-06eda4ab7c8d",
   "metadata": {},
   "outputs": [],
   "source": [
    "from sklearn.feature_extraction.text import CountVectorizer\n",
    "from sklearn.feature_extraction.text import TfidfVectorizer"
   ]
  },
  {
   "cell_type": "code",
   "execution_count": 9,
   "id": "27fb35e9-07e4-403d-b5b5-06582e56dec3",
   "metadata": {},
   "outputs": [
    {
     "name": "stdout",
     "output_type": "stream",
     "text": [
      "5\n"
     ]
    }
   ],
   "source": [
    "documents = ['dog chase cat dog','cat chase cat','car chase tv','dog watch dog tv','dog car sit car']\n",
    "N=len(documents)\n",
    "print(N)"
   ]
  },
  {
   "cell_type": "code",
   "execution_count": 12,
   "id": "d525933e-6fe7-4963-8cd8-8230c36d3646",
   "metadata": {},
   "outputs": [],
   "source": [
    " doc_counts={}\n",
    "for doc in documents:\n",
    "    for term in (doc.split()):\n",
    "        if term not in doc_counts:\n",
    "            doc_counts[term]=1\n",
    "        else:\n",
    "            doc_counts[term]+=1\n"
   ]
  },
  {
   "cell_type": "code",
   "execution_count": 13,
   "id": "98b3be34-5e22-46ff-885b-1daf3b1f6863",
   "metadata": {},
   "outputs": [
    {
     "name": "stdout",
     "output_type": "stream",
     "text": [
      "{'dog': 5, 'chase': 3, 'cat': 3, 'car': 3, 'tv': 2, 'watch': 1, 'sit': 1}\n"
     ]
    }
   ],
   "source": [
    "print(doc_counts)"
   ]
  },
  {
   "cell_type": "code",
   "execution_count": 14,
   "id": "af39ee84-c5cd-4a2f-b1e1-7675aceff79a",
   "metadata": {},
   "outputs": [],
   "source": [
    "vocabulary = []\n",
    "for doc in documents:\n",
    "    for term in doc.split():\n",
    "        if term not in vocabulary:\n",
    "            vocabulary.append(term)\n",
    "        "
   ]
  },
  {
   "cell_type": "code",
   "execution_count": 15,
   "id": "6db53069-36cd-4f2a-88e8-5c42ebe0a723",
   "metadata": {},
   "outputs": [
    {
     "name": "stdout",
     "output_type": "stream",
     "text": [
      "['dog', 'chase', 'cat', 'car', 'tv', 'watch', 'sit']\n"
     ]
    }
   ],
   "source": [
    "print(vocabulary)"
   ]
  },
  {
   "cell_type": "code",
   "execution_count": 16,
   "id": "fc9346bc-4b6f-4c3b-9d50-5621728105ef",
   "metadata": {},
   "outputs": [
    {
     "name": "stdout",
     "output_type": "stream",
     "text": [
      "{'dog', 'car', 'chase', 'cat', 'tv', 'watch', 'sit'}\n"
     ]
    }
   ],
   "source": [
    "print(set(vocabulary))"
   ]
  },
  {
   "cell_type": "code",
   "execution_count": 17,
   "id": "400300d4-1373-488c-a0c6-46652678c4db",
   "metadata": {},
   "outputs": [
    {
     "name": "stdout",
     "output_type": "stream",
     "text": [
      "['car', 'cat', 'chase', 'dog', 'sit', 'tv', 'watch']\n"
     ]
    }
   ],
   "source": [
    "print(sorted(set(vocabulary)))"
   ]
  },
  {
   "cell_type": "code",
   "execution_count": 19,
   "id": "ca02c1ef-9100-4cdd-addf-4c64a7e58b9c",
   "metadata": {},
   "outputs": [],
   "source": [
    "vocabulary_manual = sorted(set(vocabulary))"
   ]
  },
  {
   "cell_type": "code",
   "execution_count": 25,
   "id": "e431104e-1c11-4889-8076-2fcd59ba9b37",
   "metadata": {},
   "outputs": [],
   "source": [
    "term_to_idx = {v:k for k,v in enumerate(vocabulary_manual)}"
   ]
  },
  {
   "cell_type": "code",
   "execution_count": 26,
   "id": "13d18083-7815-4ae0-9157-67c67302ab64",
   "metadata": {},
   "outputs": [
    {
     "data": {
      "text/plain": [
       "{'car': 0, 'cat': 1, 'chase': 2, 'dog': 3, 'sit': 4, 'tv': 5, 'watch': 6}"
      ]
     },
     "execution_count": 26,
     "metadata": {},
     "output_type": "execute_result"
    }
   ],
   "source": [
    "term_to_idx"
   ]
  },
  {
   "cell_type": "code",
   "execution_count": 27,
   "id": "2752a2b4-712e-44e4-ba88-1566797f5e88",
   "metadata": {},
   "outputs": [],
   "source": [
    "V = len(vocabulary_manual)"
   ]
  },
  {
   "cell_type": "code",
   "execution_count": 29,
   "id": "1e518e01-217b-4bd6-969b-768ccaf934ac",
   "metadata": {},
   "outputs": [
    {
     "name": "stdout",
     "output_type": "stream",
     "text": [
      "[[0 0 0 0 0]\n",
      " [0 0 0 0 0]\n",
      " [0 0 0 0 0]\n",
      " [0 0 0 0 0]\n",
      " [0 0 0 0 0]\n",
      " [0 0 0 0 0]\n",
      " [0 0 0 0 0]]\n"
     ]
    }
   ],
   "source": [
    "tf_tdm_manual = np.zeros(shape=(V,N),dtype = np.int8)\n",
    "print(tf_tdm_manual)"
   ]
  },
  {
   "cell_type": "code",
   "execution_count": 30,
   "id": "5b112e53-7c12-44ba-8fda-5cfb7c365503",
   "metadata": {},
   "outputs": [
    {
     "name": "stdout",
     "output_type": "stream",
     "text": [
      "0\n",
      "0\n",
      "0\n",
      "0\n",
      "0\n"
     ]
    }
   ],
   "source": [
    "for i in range (0,5):\n",
    "    print(tf_tdm_manual[0][i])"
   ]
  },
  {
   "cell_type": "code",
   "execution_count": 33,
   "id": "490054de-a3ae-4a23-b520-396058afbb1e",
   "metadata": {},
   "outputs": [],
   "source": [
    "for i,term in enumerate(vocabulary_manual):\n",
    "    for j,doc in enumerate(documents):\n",
    "        frequency=0\n",
    "        for word in doc.split():\n",
    "            if term==word:\n",
    "                frequency+=1\n",
    "        tf_tdm_manual[i][j]=frequency"
   ]
  },
  {
   "cell_type": "code",
   "execution_count": 34,
   "id": "fc16a5ed-670c-46aa-818b-e08dc692c8db",
   "metadata": {},
   "outputs": [
    {
     "name": "stdout",
     "output_type": "stream",
     "text": [
      "[[0 0 1 0 2]\n",
      " [1 2 0 0 0]\n",
      " [1 1 1 0 0]\n",
      " [2 0 0 2 1]\n",
      " [0 0 0 0 1]\n",
      " [0 0 1 1 0]\n",
      " [0 0 0 1 0]]\n"
     ]
    }
   ],
   "source": [
    "print(tf_tdm_manual)"
   ]
  },
  {
   "cell_type": "code",
   "execution_count": 36,
   "id": "49e0e1fb-5bd0-4cfb-85f3-f7bfe82f53b8",
   "metadata": {},
   "outputs": [],
   "source": [
    "df = pd.DataFrame(tf_tdm_manual,index = list(vocabualry_manual),columns=['d{}'.format(c) for c in range (1,N+1)])"
   ]
  },
  {
   "cell_type": "code",
   "execution_count": 38,
   "id": "8f35ca56-1d36-452e-88e6-87f3a15faab4",
   "metadata": {},
   "outputs": [
    {
     "data": {
      "text/html": [
       "<div>\n",
       "<style scoped>\n",
       "    .dataframe tbody tr th:only-of-type {\n",
       "        vertical-align: middle;\n",
       "    }\n",
       "\n",
       "    .dataframe tbody tr th {\n",
       "        vertical-align: top;\n",
       "    }\n",
       "\n",
       "    .dataframe thead th {\n",
       "        text-align: right;\n",
       "    }\n",
       "</style>\n",
       "<table border=\"1\" class=\"dataframe\">\n",
       "  <thead>\n",
       "    <tr style=\"text-align: right;\">\n",
       "      <th></th>\n",
       "      <th>d1</th>\n",
       "      <th>d2</th>\n",
       "      <th>d3</th>\n",
       "      <th>d4</th>\n",
       "      <th>d5</th>\n",
       "    </tr>\n",
       "  </thead>\n",
       "  <tbody>\n",
       "    <tr>\n",
       "      <th>car</th>\n",
       "      <td>0</td>\n",
       "      <td>0</td>\n",
       "      <td>1</td>\n",
       "      <td>0</td>\n",
       "      <td>2</td>\n",
       "    </tr>\n",
       "    <tr>\n",
       "      <th>cat</th>\n",
       "      <td>1</td>\n",
       "      <td>2</td>\n",
       "      <td>0</td>\n",
       "      <td>0</td>\n",
       "      <td>0</td>\n",
       "    </tr>\n",
       "    <tr>\n",
       "      <th>chase</th>\n",
       "      <td>1</td>\n",
       "      <td>1</td>\n",
       "      <td>1</td>\n",
       "      <td>0</td>\n",
       "      <td>0</td>\n",
       "    </tr>\n",
       "    <tr>\n",
       "      <th>dog</th>\n",
       "      <td>2</td>\n",
       "      <td>0</td>\n",
       "      <td>0</td>\n",
       "      <td>2</td>\n",
       "      <td>1</td>\n",
       "    </tr>\n",
       "    <tr>\n",
       "      <th>sit</th>\n",
       "      <td>0</td>\n",
       "      <td>0</td>\n",
       "      <td>0</td>\n",
       "      <td>0</td>\n",
       "      <td>1</td>\n",
       "    </tr>\n",
       "    <tr>\n",
       "      <th>tv</th>\n",
       "      <td>0</td>\n",
       "      <td>0</td>\n",
       "      <td>1</td>\n",
       "      <td>1</td>\n",
       "      <td>0</td>\n",
       "    </tr>\n",
       "    <tr>\n",
       "      <th>watch</th>\n",
       "      <td>0</td>\n",
       "      <td>0</td>\n",
       "      <td>0</td>\n",
       "      <td>1</td>\n",
       "      <td>0</td>\n",
       "    </tr>\n",
       "  </tbody>\n",
       "</table>\n",
       "</div>"
      ],
      "text/plain": [
       "       d1  d2  d3  d4  d5\n",
       "car     0   0   1   0   2\n",
       "cat     1   2   0   0   0\n",
       "chase   1   1   1   0   0\n",
       "dog     2   0   0   2   1\n",
       "sit     0   0   0   0   1\n",
       "tv      0   0   1   1   0\n",
       "watch   0   0   0   1   0"
      ]
     },
     "execution_count": 38,
     "metadata": {},
     "output_type": "execute_result"
    }
   ],
   "source": [
    "df"
   ]
  },
  {
   "cell_type": "code",
   "execution_count": 41,
   "id": "a5383099-f90f-44a0-9b3a-15e9f2fc423d",
   "metadata": {},
   "outputs": [],
   "source": [
    "count_vectorizer = CountVectorizer()\n",
    "tf_tdm_sklearn = count_vectorizer.fit_transform(documents)\n",
    "vocabulary_sklearn = count_vectorizer.get_feature_names_out()"
   ]
  },
  {
   "cell_type": "code",
   "execution_count": 42,
   "id": "8f82eaf0-8665-4950-b3bf-10fd0786fb4a",
   "metadata": {},
   "outputs": [
    {
     "name": "stdout",
     "output_type": "stream",
     "text": [
      "['car' 'cat' 'chase' 'dog' 'sit' 'tv' 'watch']\n"
     ]
    }
   ],
   "source": [
    "print(vocabulary_sklearn)"
   ]
  },
  {
   "cell_type": "code",
   "execution_count": 51,
   "id": "8b29f0f5-51f7-4386-a830-6a45de1a24ad",
   "metadata": {},
   "outputs": [],
   "source": [
    "df1 = pd.DataFrame(tf_tdm_sklearn.toarray().T,index = list(vocabulary_sklearn),columns=['d{}'.format(c) for c in range (1,N+1)])"
   ]
  },
  {
   "cell_type": "code",
   "execution_count": 52,
   "id": "ad54a165-f982-4931-93d5-e973e7747439",
   "metadata": {},
   "outputs": [
    {
     "data": {
      "text/html": [
       "<div>\n",
       "<style scoped>\n",
       "    .dataframe tbody tr th:only-of-type {\n",
       "        vertical-align: middle;\n",
       "    }\n",
       "\n",
       "    .dataframe tbody tr th {\n",
       "        vertical-align: top;\n",
       "    }\n",
       "\n",
       "    .dataframe thead th {\n",
       "        text-align: right;\n",
       "    }\n",
       "</style>\n",
       "<table border=\"1\" class=\"dataframe\">\n",
       "  <thead>\n",
       "    <tr style=\"text-align: right;\">\n",
       "      <th></th>\n",
       "      <th>d1</th>\n",
       "      <th>d2</th>\n",
       "      <th>d3</th>\n",
       "      <th>d4</th>\n",
       "      <th>d5</th>\n",
       "    </tr>\n",
       "  </thead>\n",
       "  <tbody>\n",
       "    <tr>\n",
       "      <th>car</th>\n",
       "      <td>0</td>\n",
       "      <td>0</td>\n",
       "      <td>1</td>\n",
       "      <td>0</td>\n",
       "      <td>2</td>\n",
       "    </tr>\n",
       "    <tr>\n",
       "      <th>cat</th>\n",
       "      <td>1</td>\n",
       "      <td>2</td>\n",
       "      <td>0</td>\n",
       "      <td>0</td>\n",
       "      <td>0</td>\n",
       "    </tr>\n",
       "    <tr>\n",
       "      <th>chase</th>\n",
       "      <td>1</td>\n",
       "      <td>1</td>\n",
       "      <td>1</td>\n",
       "      <td>0</td>\n",
       "      <td>0</td>\n",
       "    </tr>\n",
       "    <tr>\n",
       "      <th>dog</th>\n",
       "      <td>2</td>\n",
       "      <td>0</td>\n",
       "      <td>0</td>\n",
       "      <td>2</td>\n",
       "      <td>1</td>\n",
       "    </tr>\n",
       "    <tr>\n",
       "      <th>sit</th>\n",
       "      <td>0</td>\n",
       "      <td>0</td>\n",
       "      <td>0</td>\n",
       "      <td>0</td>\n",
       "      <td>1</td>\n",
       "    </tr>\n",
       "    <tr>\n",
       "      <th>tv</th>\n",
       "      <td>0</td>\n",
       "      <td>0</td>\n",
       "      <td>1</td>\n",
       "      <td>1</td>\n",
       "      <td>0</td>\n",
       "    </tr>\n",
       "    <tr>\n",
       "      <th>watch</th>\n",
       "      <td>0</td>\n",
       "      <td>0</td>\n",
       "      <td>0</td>\n",
       "      <td>1</td>\n",
       "      <td>0</td>\n",
       "    </tr>\n",
       "  </tbody>\n",
       "</table>\n",
       "</div>"
      ],
      "text/plain": [
       "       d1  d2  d3  d4  d5\n",
       "car     0   0   1   0   2\n",
       "cat     1   2   0   0   0\n",
       "chase   1   1   1   0   0\n",
       "dog     2   0   0   2   1\n",
       "sit     0   0   0   0   1\n",
       "tv      0   0   1   1   0\n",
       "watch   0   0   0   1   0"
      ]
     },
     "execution_count": 52,
     "metadata": {},
     "output_type": "execute_result"
    }
   ],
   "source": [
    "df1"
   ]
  },
  {
   "cell_type": "code",
   "execution_count": 53,
   "id": "202ebd00-2f57-4f3f-8e13-a7aa74c30fc3",
   "metadata": {},
   "outputs": [],
   "source": [
    "tf_idf_manual = np.zeros(shape = (V,N),dtype= np.int8)"
   ]
  },
  {
   "cell_type": "code",
   "execution_count": 57,
   "id": "b7795c74-90a1-428d-9524-acd821dab99d",
   "metadata": {},
   "outputs": [],
   "source": [
    "sdoc_counts = sorted(doc_counts)"
   ]
  },
  {
   "cell_type": "code",
   "execution_count": 60,
   "id": "88f35a4e-afb0-46f3-bcf4-9a65921eb063",
   "metadata": {},
   "outputs": [],
   "source": [
    "for i,term in enumerate(vocabulary_manual):\n",
    "    for j,doc in enumerate(documents):\n",
    "        tf_idf_manual[i][j] = tf_tdm_manual[i][j]*doc_counts[term]"
   ]
  },
  {
   "cell_type": "code",
   "execution_count": 61,
   "id": "ec627222-81ec-4a7f-958f-969f64a340f4",
   "metadata": {},
   "outputs": [
    {
     "data": {
      "text/plain": [
       "array([[ 0,  0,  3,  0,  6],\n",
       "       [ 3,  6,  0,  0,  0],\n",
       "       [ 3,  3,  3,  0,  0],\n",
       "       [10,  0,  0, 10,  5],\n",
       "       [ 0,  0,  0,  0,  1],\n",
       "       [ 0,  0,  2,  2,  0],\n",
       "       [ 0,  0,  0,  1,  0]], dtype=int8)"
      ]
     },
     "execution_count": 61,
     "metadata": {},
     "output_type": "execute_result"
    }
   ],
   "source": [
    "tf_idf_manual"
   ]
  },
  {
   "cell_type": "code",
   "execution_count": 62,
   "id": "ecc247e2-4625-408b-ba6a-f18f6387abe7",
   "metadata": {},
   "outputs": [],
   "source": [
    "df2 = pd.DataFrame(tf_idf_manual,index= list(vocabulary_manual),columns = ['d{}'.format(c) for c in range (1,N+1)])"
   ]
  },
  {
   "cell_type": "code",
   "execution_count": 63,
   "id": "1ee12de4-82fe-4f47-a819-2e004e9bba89",
   "metadata": {},
   "outputs": [
    {
     "data": {
      "text/html": [
       "<div>\n",
       "<style scoped>\n",
       "    .dataframe tbody tr th:only-of-type {\n",
       "        vertical-align: middle;\n",
       "    }\n",
       "\n",
       "    .dataframe tbody tr th {\n",
       "        vertical-align: top;\n",
       "    }\n",
       "\n",
       "    .dataframe thead th {\n",
       "        text-align: right;\n",
       "    }\n",
       "</style>\n",
       "<table border=\"1\" class=\"dataframe\">\n",
       "  <thead>\n",
       "    <tr style=\"text-align: right;\">\n",
       "      <th></th>\n",
       "      <th>d1</th>\n",
       "      <th>d2</th>\n",
       "      <th>d3</th>\n",
       "      <th>d4</th>\n",
       "      <th>d5</th>\n",
       "    </tr>\n",
       "  </thead>\n",
       "  <tbody>\n",
       "    <tr>\n",
       "      <th>car</th>\n",
       "      <td>0</td>\n",
       "      <td>0</td>\n",
       "      <td>3</td>\n",
       "      <td>0</td>\n",
       "      <td>6</td>\n",
       "    </tr>\n",
       "    <tr>\n",
       "      <th>cat</th>\n",
       "      <td>3</td>\n",
       "      <td>6</td>\n",
       "      <td>0</td>\n",
       "      <td>0</td>\n",
       "      <td>0</td>\n",
       "    </tr>\n",
       "    <tr>\n",
       "      <th>chase</th>\n",
       "      <td>3</td>\n",
       "      <td>3</td>\n",
       "      <td>3</td>\n",
       "      <td>0</td>\n",
       "      <td>0</td>\n",
       "    </tr>\n",
       "    <tr>\n",
       "      <th>dog</th>\n",
       "      <td>10</td>\n",
       "      <td>0</td>\n",
       "      <td>0</td>\n",
       "      <td>10</td>\n",
       "      <td>5</td>\n",
       "    </tr>\n",
       "    <tr>\n",
       "      <th>sit</th>\n",
       "      <td>0</td>\n",
       "      <td>0</td>\n",
       "      <td>0</td>\n",
       "      <td>0</td>\n",
       "      <td>1</td>\n",
       "    </tr>\n",
       "    <tr>\n",
       "      <th>tv</th>\n",
       "      <td>0</td>\n",
       "      <td>0</td>\n",
       "      <td>2</td>\n",
       "      <td>2</td>\n",
       "      <td>0</td>\n",
       "    </tr>\n",
       "    <tr>\n",
       "      <th>watch</th>\n",
       "      <td>0</td>\n",
       "      <td>0</td>\n",
       "      <td>0</td>\n",
       "      <td>1</td>\n",
       "      <td>0</td>\n",
       "    </tr>\n",
       "  </tbody>\n",
       "</table>\n",
       "</div>"
      ],
      "text/plain": [
       "       d1  d2  d3  d4  d5\n",
       "car     0   0   3   0   6\n",
       "cat     3   6   0   0   0\n",
       "chase   3   3   3   0   0\n",
       "dog    10   0   0  10   5\n",
       "sit     0   0   0   0   1\n",
       "tv      0   0   2   2   0\n",
       "watch   0   0   0   1   0"
      ]
     },
     "execution_count": 63,
     "metadata": {},
     "output_type": "execute_result"
    }
   ],
   "source": [
    "df2"
   ]
  },
  {
   "cell_type": "code",
   "execution_count": 64,
   "id": "30865843-09b9-4db3-b7f9-4ec5a4d482a5",
   "metadata": {},
   "outputs": [],
   "source": [
    "tfidf_vectorizer = TfidfVectorizer(norm = None)\n"
   ]
  },
  {
   "cell_type": "code",
   "execution_count": 65,
   "id": "6902c50d-0eda-42a9-99b7-2762b7278b8e",
   "metadata": {},
   "outputs": [],
   "source": [
    "tf_idf_sklearn = tfidf_vectorizer.fit_transform(documents)\n",
    "vocabulary_sklearn = tfidf_vectorizer.get_feature_names_out()"
   ]
  },
  {
   "cell_type": "code",
   "execution_count": 66,
   "id": "35e53597-a10f-43ee-8acc-87d39eea1acb",
   "metadata": {},
   "outputs": [
    {
     "name": "stdout",
     "output_type": "stream",
     "text": [
      "['car' 'cat' 'chase' 'dog' 'sit' 'tv' 'watch']\n"
     ]
    }
   ],
   "source": [
    "print(vocabulary_sklearn)"
   ]
  },
  {
   "cell_type": "code",
   "execution_count": 67,
   "id": "55ca7138-f30f-49ad-85d0-25e25960c081",
   "metadata": {},
   "outputs": [
    {
     "data": {
      "text/plain": [
       "<Compressed Sparse Row sparse matrix of dtype 'float64'\n",
       "\twith 14 stored elements and shape (5, 7)>"
      ]
     },
     "execution_count": 67,
     "metadata": {},
     "output_type": "execute_result"
    }
   ],
   "source": [
    "tf_idf_sklearn"
   ]
  },
  {
   "cell_type": "code",
   "execution_count": 68,
   "id": "57da1581-ed09-4b85-8ca7-22c39949f876",
   "metadata": {},
   "outputs": [],
   "source": [
    "df3 = pd.DataFrame(tf_idf_sklearn.toarray().T,index = list(vocabulary_manual),columns = ['d{}'.format(c) for c in range (1,N+1)])"
   ]
  },
  {
   "cell_type": "code",
   "execution_count": 69,
   "id": "729f977c-3434-4c05-8b21-9bf905145040",
   "metadata": {},
   "outputs": [
    {
     "data": {
      "text/html": [
       "<div>\n",
       "<style scoped>\n",
       "    .dataframe tbody tr th:only-of-type {\n",
       "        vertical-align: middle;\n",
       "    }\n",
       "\n",
       "    .dataframe tbody tr th {\n",
       "        vertical-align: top;\n",
       "    }\n",
       "\n",
       "    .dataframe thead th {\n",
       "        text-align: right;\n",
       "    }\n",
       "</style>\n",
       "<table border=\"1\" class=\"dataframe\">\n",
       "  <thead>\n",
       "    <tr style=\"text-align: right;\">\n",
       "      <th></th>\n",
       "      <th>d1</th>\n",
       "      <th>d2</th>\n",
       "      <th>d3</th>\n",
       "      <th>d4</th>\n",
       "      <th>d5</th>\n",
       "    </tr>\n",
       "  </thead>\n",
       "  <tbody>\n",
       "    <tr>\n",
       "      <th>car</th>\n",
       "      <td>0.000000</td>\n",
       "      <td>0.000000</td>\n",
       "      <td>1.693147</td>\n",
       "      <td>0.000000</td>\n",
       "      <td>3.386294</td>\n",
       "    </tr>\n",
       "    <tr>\n",
       "      <th>cat</th>\n",
       "      <td>1.693147</td>\n",
       "      <td>3.386294</td>\n",
       "      <td>0.000000</td>\n",
       "      <td>0.000000</td>\n",
       "      <td>0.000000</td>\n",
       "    </tr>\n",
       "    <tr>\n",
       "      <th>chase</th>\n",
       "      <td>1.405465</td>\n",
       "      <td>1.405465</td>\n",
       "      <td>1.405465</td>\n",
       "      <td>0.000000</td>\n",
       "      <td>0.000000</td>\n",
       "    </tr>\n",
       "    <tr>\n",
       "      <th>dog</th>\n",
       "      <td>2.810930</td>\n",
       "      <td>0.000000</td>\n",
       "      <td>0.000000</td>\n",
       "      <td>2.810930</td>\n",
       "      <td>1.405465</td>\n",
       "    </tr>\n",
       "    <tr>\n",
       "      <th>sit</th>\n",
       "      <td>0.000000</td>\n",
       "      <td>0.000000</td>\n",
       "      <td>0.000000</td>\n",
       "      <td>0.000000</td>\n",
       "      <td>2.098612</td>\n",
       "    </tr>\n",
       "    <tr>\n",
       "      <th>tv</th>\n",
       "      <td>0.000000</td>\n",
       "      <td>0.000000</td>\n",
       "      <td>1.693147</td>\n",
       "      <td>1.693147</td>\n",
       "      <td>0.000000</td>\n",
       "    </tr>\n",
       "    <tr>\n",
       "      <th>watch</th>\n",
       "      <td>0.000000</td>\n",
       "      <td>0.000000</td>\n",
       "      <td>0.000000</td>\n",
       "      <td>2.098612</td>\n",
       "      <td>0.000000</td>\n",
       "    </tr>\n",
       "  </tbody>\n",
       "</table>\n",
       "</div>"
      ],
      "text/plain": [
       "             d1        d2        d3        d4        d5\n",
       "car    0.000000  0.000000  1.693147  0.000000  3.386294\n",
       "cat    1.693147  3.386294  0.000000  0.000000  0.000000\n",
       "chase  1.405465  1.405465  1.405465  0.000000  0.000000\n",
       "dog    2.810930  0.000000  0.000000  2.810930  1.405465\n",
       "sit    0.000000  0.000000  0.000000  0.000000  2.098612\n",
       "tv     0.000000  0.000000  1.693147  1.693147  0.000000\n",
       "watch  0.000000  0.000000  0.000000  2.098612  0.000000"
      ]
     },
     "execution_count": 69,
     "metadata": {},
     "output_type": "execute_result"
    }
   ],
   "source": [
    "df3"
   ]
  },
  {
   "cell_type": "code",
   "execution_count": 72,
   "id": "19e4acb0-35ac-4a01-8b3c-24e61eff765e",
   "metadata": {},
   "outputs": [],
   "source": [
    "ngram_count_vectorizer = CountVectorizer(ngram_range=(1,2))\n",
    "ngram_tf_model = ngram_count_vectorizer.fit_transform(documents)\n",
    "ngram_vocabulary_manual = ngram_count_vectorizer.get_feature_names_out()"
   ]
  },
  {
   "cell_type": "code",
   "execution_count": 74,
   "id": "cecf5801-db8c-4819-9093-cc9371517b75",
   "metadata": {},
   "outputs": [
    {
     "data": {
      "text/plain": [
       "array(['car', 'car chase', 'car sit', 'cat', 'cat chase', 'cat dog',\n",
       "       'chase', 'chase cat', 'chase tv', 'dog', 'dog car', 'dog chase',\n",
       "       'dog tv', 'dog watch', 'sit', 'sit car', 'tv', 'watch',\n",
       "       'watch dog'], dtype=object)"
      ]
     },
     "execution_count": 74,
     "metadata": {},
     "output_type": "execute_result"
    }
   ],
   "source": [
    "ngram_vocabulary_manual"
   ]
  },
  {
   "cell_type": "code",
   "execution_count": 78,
   "id": "ab538a35-a996-47df-9e9b-a8cfbcce004b",
   "metadata": {},
   "outputs": [],
   "source": [
    "df4 = pd.DataFrame(ngram_tf_model.toarray().T,index = list(ngram_vocabulary_manual),columns=['d{}'.format(c) for c in range (1,N+1)])"
   ]
  },
  {
   "cell_type": "code",
   "execution_count": 79,
   "id": "f02dc36e-edfb-4888-acca-f38ab8bfe673",
   "metadata": {},
   "outputs": [
    {
     "data": {
      "text/html": [
       "<div>\n",
       "<style scoped>\n",
       "    .dataframe tbody tr th:only-of-type {\n",
       "        vertical-align: middle;\n",
       "    }\n",
       "\n",
       "    .dataframe tbody tr th {\n",
       "        vertical-align: top;\n",
       "    }\n",
       "\n",
       "    .dataframe thead th {\n",
       "        text-align: right;\n",
       "    }\n",
       "</style>\n",
       "<table border=\"1\" class=\"dataframe\">\n",
       "  <thead>\n",
       "    <tr style=\"text-align: right;\">\n",
       "      <th></th>\n",
       "      <th>d1</th>\n",
       "      <th>d2</th>\n",
       "      <th>d3</th>\n",
       "      <th>d4</th>\n",
       "      <th>d5</th>\n",
       "    </tr>\n",
       "  </thead>\n",
       "  <tbody>\n",
       "    <tr>\n",
       "      <th>car</th>\n",
       "      <td>0</td>\n",
       "      <td>0</td>\n",
       "      <td>1</td>\n",
       "      <td>0</td>\n",
       "      <td>2</td>\n",
       "    </tr>\n",
       "    <tr>\n",
       "      <th>car chase</th>\n",
       "      <td>0</td>\n",
       "      <td>0</td>\n",
       "      <td>1</td>\n",
       "      <td>0</td>\n",
       "      <td>0</td>\n",
       "    </tr>\n",
       "    <tr>\n",
       "      <th>car sit</th>\n",
       "      <td>0</td>\n",
       "      <td>0</td>\n",
       "      <td>0</td>\n",
       "      <td>0</td>\n",
       "      <td>1</td>\n",
       "    </tr>\n",
       "    <tr>\n",
       "      <th>cat</th>\n",
       "      <td>1</td>\n",
       "      <td>2</td>\n",
       "      <td>0</td>\n",
       "      <td>0</td>\n",
       "      <td>0</td>\n",
       "    </tr>\n",
       "    <tr>\n",
       "      <th>cat chase</th>\n",
       "      <td>0</td>\n",
       "      <td>1</td>\n",
       "      <td>0</td>\n",
       "      <td>0</td>\n",
       "      <td>0</td>\n",
       "    </tr>\n",
       "    <tr>\n",
       "      <th>cat dog</th>\n",
       "      <td>1</td>\n",
       "      <td>0</td>\n",
       "      <td>0</td>\n",
       "      <td>0</td>\n",
       "      <td>0</td>\n",
       "    </tr>\n",
       "    <tr>\n",
       "      <th>chase</th>\n",
       "      <td>1</td>\n",
       "      <td>1</td>\n",
       "      <td>1</td>\n",
       "      <td>0</td>\n",
       "      <td>0</td>\n",
       "    </tr>\n",
       "    <tr>\n",
       "      <th>chase cat</th>\n",
       "      <td>1</td>\n",
       "      <td>1</td>\n",
       "      <td>0</td>\n",
       "      <td>0</td>\n",
       "      <td>0</td>\n",
       "    </tr>\n",
       "    <tr>\n",
       "      <th>chase tv</th>\n",
       "      <td>0</td>\n",
       "      <td>0</td>\n",
       "      <td>1</td>\n",
       "      <td>0</td>\n",
       "      <td>0</td>\n",
       "    </tr>\n",
       "    <tr>\n",
       "      <th>dog</th>\n",
       "      <td>2</td>\n",
       "      <td>0</td>\n",
       "      <td>0</td>\n",
       "      <td>2</td>\n",
       "      <td>1</td>\n",
       "    </tr>\n",
       "    <tr>\n",
       "      <th>dog car</th>\n",
       "      <td>0</td>\n",
       "      <td>0</td>\n",
       "      <td>0</td>\n",
       "      <td>0</td>\n",
       "      <td>1</td>\n",
       "    </tr>\n",
       "    <tr>\n",
       "      <th>dog chase</th>\n",
       "      <td>1</td>\n",
       "      <td>0</td>\n",
       "      <td>0</td>\n",
       "      <td>0</td>\n",
       "      <td>0</td>\n",
       "    </tr>\n",
       "    <tr>\n",
       "      <th>dog tv</th>\n",
       "      <td>0</td>\n",
       "      <td>0</td>\n",
       "      <td>0</td>\n",
       "      <td>1</td>\n",
       "      <td>0</td>\n",
       "    </tr>\n",
       "    <tr>\n",
       "      <th>dog watch</th>\n",
       "      <td>0</td>\n",
       "      <td>0</td>\n",
       "      <td>0</td>\n",
       "      <td>1</td>\n",
       "      <td>0</td>\n",
       "    </tr>\n",
       "    <tr>\n",
       "      <th>sit</th>\n",
       "      <td>0</td>\n",
       "      <td>0</td>\n",
       "      <td>0</td>\n",
       "      <td>0</td>\n",
       "      <td>1</td>\n",
       "    </tr>\n",
       "    <tr>\n",
       "      <th>sit car</th>\n",
       "      <td>0</td>\n",
       "      <td>0</td>\n",
       "      <td>0</td>\n",
       "      <td>0</td>\n",
       "      <td>1</td>\n",
       "    </tr>\n",
       "    <tr>\n",
       "      <th>tv</th>\n",
       "      <td>0</td>\n",
       "      <td>0</td>\n",
       "      <td>1</td>\n",
       "      <td>1</td>\n",
       "      <td>0</td>\n",
       "    </tr>\n",
       "    <tr>\n",
       "      <th>watch</th>\n",
       "      <td>0</td>\n",
       "      <td>0</td>\n",
       "      <td>0</td>\n",
       "      <td>1</td>\n",
       "      <td>0</td>\n",
       "    </tr>\n",
       "    <tr>\n",
       "      <th>watch dog</th>\n",
       "      <td>0</td>\n",
       "      <td>0</td>\n",
       "      <td>0</td>\n",
       "      <td>1</td>\n",
       "      <td>0</td>\n",
       "    </tr>\n",
       "  </tbody>\n",
       "</table>\n",
       "</div>"
      ],
      "text/plain": [
       "           d1  d2  d3  d4  d5\n",
       "car         0   0   1   0   2\n",
       "car chase   0   0   1   0   0\n",
       "car sit     0   0   0   0   1\n",
       "cat         1   2   0   0   0\n",
       "cat chase   0   1   0   0   0\n",
       "cat dog     1   0   0   0   0\n",
       "chase       1   1   1   0   0\n",
       "chase cat   1   1   0   0   0\n",
       "chase tv    0   0   1   0   0\n",
       "dog         2   0   0   2   1\n",
       "dog car     0   0   0   0   1\n",
       "dog chase   1   0   0   0   0\n",
       "dog tv      0   0   0   1   0\n",
       "dog watch   0   0   0   1   0\n",
       "sit         0   0   0   0   1\n",
       "sit car     0   0   0   0   1\n",
       "tv          0   0   1   1   0\n",
       "watch       0   0   0   1   0\n",
       "watch dog   0   0   0   1   0"
      ]
     },
     "execution_count": 79,
     "metadata": {},
     "output_type": "execute_result"
    }
   ],
   "source": [
    "df4"
   ]
  },
  {
   "cell_type": "code",
   "execution_count": null,
   "id": "82ca25c1-fb4a-48c1-95bd-b83154067107",
   "metadata": {},
   "outputs": [],
   "source": []
  }
 ],
 "metadata": {
  "kernelspec": {
   "display_name": "spacy-env-30-12-2024",
   "language": "python",
   "name": "spacy-env-30-12-2024"
  },
  "language_info": {
   "codemirror_mode": {
    "name": "ipython",
    "version": 3
   },
   "file_extension": ".py",
   "mimetype": "text/x-python",
   "name": "python",
   "nbconvert_exporter": "python",
   "pygments_lexer": "ipython3",
   "version": "3.11.0"
  }
 },
 "nbformat": 4,
 "nbformat_minor": 5
}
