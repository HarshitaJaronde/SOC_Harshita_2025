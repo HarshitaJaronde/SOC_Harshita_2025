{
 "cells": [
  {
   "cell_type": "code",
   "execution_count": 1,
   "id": "55445d0c-fa24-48f8-a6cc-be51a5088c04",
   "metadata": {},
   "outputs": [],
   "source": [
    "import string\n",
    "import unicodedata"
   ]
  },
  {
   "cell_type": "code",
   "execution_count": 2,
   "id": "8dae1ffd-d766-4547-812d-61b63a9a3c87",
   "metadata": {},
   "outputs": [],
   "source": [
    "allowed_characters = string.ascii_letters + \" .,;'\" + \"_\"\n",
    "n_letters = len(allowed_characters)"
   ]
  },
  {
   "cell_type": "code",
   "execution_count": 7,
   "id": "522660f0-89e8-405e-a9c4-fee9b29210c6",
   "metadata": {},
   "outputs": [],
   "source": [
    "def unicodeToAscii(s):\n",
    "    return ''.join(\n",
    "        c for c in unicodedata.normalize('NFD',s) #separate characters from diacritical remarks\n",
    "        if unicodedata.category(c) != 'Mn' #removes diacritical remarks\n",
    "        and c in allowed_characters\n",
    "    )\n",
    "                "
   ]
  },
  {
   "cell_type": "code",
   "execution_count": 10,
   "id": "7d43002a-6d8a-4cad-bbbc-4c05e910a49e",
   "metadata": {},
   "outputs": [
    {
     "name": "stdout",
     "output_type": "stream",
     "text": [
      "Converting Santé to ascii Sante\n"
     ]
    }
   ],
   "source": [
    "print(f\"Converting Santé to ascii {unicodeToAscii('Santé')}\")"
   ]
  },
  {
   "cell_type": "code",
   "execution_count": 11,
   "id": "497d8818-1643-4003-9826-f1e305b2ac53",
   "metadata": {},
   "outputs": [],
   "source": [
    "def letterToIndex(letter):\n",
    "    if letter not in allowed_characters:\n",
    "        return allowed_characters.find(\"_\")\n",
    "    else:\n",
    "        return allowed_characters.find(letter)"
   ]
  },
  {
   "cell_type": "code",
   "execution_count": 15,
   "id": "d266de55-9585-47c9-b11c-21dfef21f340",
   "metadata": {},
   "outputs": [
    {
     "data": {
      "text/plain": [
       "4"
      ]
     },
     "execution_count": 15,
     "metadata": {},
     "output_type": "execute_result"
    }
   ],
   "source": [
    "letterToIndex('e')"
   ]
  },
  {
   "cell_type": "code",
   "execution_count": 23,
   "id": "996c3e50-8248-4b09-993a-ddc4b218841d",
   "metadata": {},
   "outputs": [
    {
     "data": {
      "text/plain": [
       "tensor([[0., 0., 0.],\n",
       "        [0., 0., 0.]])"
      ]
     },
     "execution_count": 23,
     "metadata": {},
     "output_type": "execute_result"
    }
   ],
   "source": [
    "import torch\n",
    "t = torch.zeros(2,3)\n",
    "t"
   ]
  },
  {
   "cell_type": "code",
   "execution_count": 25,
   "id": "88d11fd0-b0e2-4ded-9b45-6113c37d02ea",
   "metadata": {},
   "outputs": [],
   "source": [
    "def LineToTensor(line):\n",
    "    tensor = torch.zeros(len(line),1,n_letters)\n",
    "    for li,letter in enumerate(line):\n",
    "        tensor[li][0][letterToIndex(letter)] = 1\n",
    "    return tensor"
   ]
  },
  {
   "cell_type": "code",
   "execution_count": 27,
   "id": "1dc514b8-6aea-49da-9bee-83584673f6e7",
   "metadata": {},
   "outputs": [
    {
     "name": "stdout",
     "output_type": "stream",
     "text": [
      "The letter a becomes: tensor([[[1., 0., 0., 0., 0., 0., 0., 0., 0., 0., 0., 0., 0., 0., 0., 0., 0.,\n",
      "          0., 0., 0., 0., 0., 0., 0., 0., 0., 0., 0., 0., 0., 0., 0., 0., 0.,\n",
      "          0., 0., 0., 0., 0., 0., 0., 0., 0., 0., 0., 0., 0., 0., 0., 0., 0.,\n",
      "          0., 0., 0., 0., 0., 0., 0.]]])\n"
     ]
    }
   ],
   "source": [
    "print(f\"The letter a becomes: {LineToTensor('a')}\")"
   ]
  },
  {
   "cell_type": "code",
   "execution_count": 29,
   "id": "935955a9-ff49-4397-8be6-1e50b4587edf",
   "metadata": {},
   "outputs": [
    {
     "name": "stdout",
     "output_type": "stream",
     "text": [
      "The name 'Ahn' becomes tensor([[[0., 0., 0., 0., 0., 0., 0., 0., 0., 0., 0., 0., 0., 0., 0., 0., 0.,\n",
      "          0., 0., 0., 0., 0., 0., 0., 0., 0., 1., 0., 0., 0., 0., 0., 0., 0.,\n",
      "          0., 0., 0., 0., 0., 0., 0., 0., 0., 0., 0., 0., 0., 0., 0., 0., 0.,\n",
      "          0., 0., 0., 0., 0., 0., 0.]],\n",
      "\n",
      "        [[0., 0., 0., 0., 0., 0., 0., 1., 0., 0., 0., 0., 0., 0., 0., 0., 0.,\n",
      "          0., 0., 0., 0., 0., 0., 0., 0., 0., 0., 0., 0., 0., 0., 0., 0., 0.,\n",
      "          0., 0., 0., 0., 0., 0., 0., 0., 0., 0., 0., 0., 0., 0., 0., 0., 0.,\n",
      "          0., 0., 0., 0., 0., 0., 0.]],\n",
      "\n",
      "        [[0., 0., 0., 0., 0., 0., 0., 0., 0., 0., 0., 0., 0., 1., 0., 0., 0.,\n",
      "          0., 0., 0., 0., 0., 0., 0., 0., 0., 0., 0., 0., 0., 0., 0., 0., 0.,\n",
      "          0., 0., 0., 0., 0., 0., 0., 0., 0., 0., 0., 0., 0., 0., 0., 0., 0.,\n",
      "          0., 0., 0., 0., 0., 0., 0.]]])\n"
     ]
    }
   ],
   "source": [
    "print(f\"The name 'Ahn' becomes {LineToTensor('Ahn')}\")"
   ]
  },
  {
   "cell_type": "code",
   "execution_count": 30,
   "id": "7163d8a6-d3e0-4c67-b0a9-c39515c379d6",
   "metadata": {},
   "outputs": [],
   "source": [
    "from io import open"
   ]
  },
  {
   "cell_type": "code",
   "execution_count": 31,
   "id": "0bf3283a-dc4a-41bc-abbe-189f7febaeff",
   "metadata": {},
   "outputs": [],
   "source": [
    "import glob\n",
    "import os\n",
    "import time"
   ]
  },
  {
   "cell_type": "code",
   "execution_count": 32,
   "id": "9ae19758-f8ff-4baa-bef9-f10fd0bc1eb2",
   "metadata": {},
   "outputs": [],
   "source": [
    "from torch.utils.data import Dataset"
   ]
  },
  {
   "cell_type": "code",
   "execution_count": 43,
   "id": "e0a1641d-19a6-43e6-9c62-b9a559f284e5",
   "metadata": {},
   "outputs": [],
   "source": [
    "class NamesDataset(Dataset):\n",
    "\n",
    "    def __init__(self,data_dir):\n",
    "        self.data_dir = data_dir\n",
    "        self.load_time = time.localtime\n",
    "        labels_set = set()\n",
    "\n",
    "        self.data = []\n",
    "        self.data_tensors = []\n",
    "        self.labels = []\n",
    "        self.label_tensors = []\n",
    "\n",
    "        text_files = glob.glob(os.path.join(data_dir, '*.txt'))\n",
    "        for filename in text_files:\n",
    "            label = os.path.splitext(os.path.basename(filename))[0]\n",
    "            labels_set.add(label)\n",
    "            lines = open(filename,encoding='utf-8').read().strip().split('\\n')\n",
    "            for name in lines:\n",
    "                self.data.append(name)\n",
    "                self.data_tensors.append(LineToTensor(name))\n",
    "                self.labels.append(label)\n",
    "        self.labels_unique = list(labels_set)\n",
    "        for idx in range(len(self.labels)):\n",
    "            temp_tensor = torch.tensor([self.labels_unique.index(self.labels[idx])],dtype = torch.long)\n",
    "            self.label_tensors.append(temp_tensor)\n",
    "\n",
    "    def __len__(self):\n",
    "        return len(self.data)\n",
    "\n",
    "    def __getitem__(self,idx):\n",
    "        data_item = self.data[idx]\n",
    "        data_label = self.labels[idx]\n",
    "        data_tensor = self.data_tensors[idx]\n",
    "        label_tensor = self.label_tensors[idx]\n",
    "\n",
    "        return data_item,data_label,data_tensor,label_tensor\n",
    "\n",
    "        \n",
    "        \n",
    "    "
   ]
  },
  {
   "cell_type": "code",
   "execution_count": 45,
   "id": "0157d88f-4e06-49e5-a51b-2cafa120db47",
   "metadata": {},
   "outputs": [
    {
     "data": {
      "text/plain": [
       "20074"
      ]
     },
     "execution_count": 45,
     "metadata": {},
     "output_type": "execute_result"
    }
   ],
   "source": [
    "alldata = NamesDataset(\"C:\\\\Users\\\\HARSHITA\\\\Downloads\\\\data\\\\data\\\\names\")\n",
    "len(alldata)\n"
   ]
  },
  {
   "cell_type": "code",
   "execution_count": 46,
   "id": "b837a0b2-7e63-43f3-a6ad-93001099a196",
   "metadata": {},
   "outputs": [
    {
     "data": {
      "text/plain": [
       "('Khoury',\n",
       " 'Arabic',\n",
       " tensor([[[0., 0., 0., 0., 0., 0., 0., 0., 0., 0., 0., 0., 0., 0., 0., 0., 0.,\n",
       "           0., 0., 0., 0., 0., 0., 0., 0., 0., 0., 0., 0., 0., 0., 0., 0., 0.,\n",
       "           0., 0., 1., 0., 0., 0., 0., 0., 0., 0., 0., 0., 0., 0., 0., 0., 0.,\n",
       "           0., 0., 0., 0., 0., 0., 0.]],\n",
       " \n",
       "         [[0., 0., 0., 0., 0., 0., 0., 1., 0., 0., 0., 0., 0., 0., 0., 0., 0.,\n",
       "           0., 0., 0., 0., 0., 0., 0., 0., 0., 0., 0., 0., 0., 0., 0., 0., 0.,\n",
       "           0., 0., 0., 0., 0., 0., 0., 0., 0., 0., 0., 0., 0., 0., 0., 0., 0.,\n",
       "           0., 0., 0., 0., 0., 0., 0.]],\n",
       " \n",
       "         [[0., 0., 0., 0., 0., 0., 0., 0., 0., 0., 0., 0., 0., 0., 1., 0., 0.,\n",
       "           0., 0., 0., 0., 0., 0., 0., 0., 0., 0., 0., 0., 0., 0., 0., 0., 0.,\n",
       "           0., 0., 0., 0., 0., 0., 0., 0., 0., 0., 0., 0., 0., 0., 0., 0., 0.,\n",
       "           0., 0., 0., 0., 0., 0., 0.]],\n",
       " \n",
       "         [[0., 0., 0., 0., 0., 0., 0., 0., 0., 0., 0., 0., 0., 0., 0., 0., 0.,\n",
       "           0., 0., 0., 1., 0., 0., 0., 0., 0., 0., 0., 0., 0., 0., 0., 0., 0.,\n",
       "           0., 0., 0., 0., 0., 0., 0., 0., 0., 0., 0., 0., 0., 0., 0., 0., 0.,\n",
       "           0., 0., 0., 0., 0., 0., 0.]],\n",
       " \n",
       "         [[0., 0., 0., 0., 0., 0., 0., 0., 0., 0., 0., 0., 0., 0., 0., 0., 0.,\n",
       "           1., 0., 0., 0., 0., 0., 0., 0., 0., 0., 0., 0., 0., 0., 0., 0., 0.,\n",
       "           0., 0., 0., 0., 0., 0., 0., 0., 0., 0., 0., 0., 0., 0., 0., 0., 0.,\n",
       "           0., 0., 0., 0., 0., 0., 0.]],\n",
       " \n",
       "         [[0., 0., 0., 0., 0., 0., 0., 0., 0., 0., 0., 0., 0., 0., 0., 0., 0.,\n",
       "           0., 0., 0., 0., 0., 0., 0., 1., 0., 0., 0., 0., 0., 0., 0., 0., 0.,\n",
       "           0., 0., 0., 0., 0., 0., 0., 0., 0., 0., 0., 0., 0., 0., 0., 0., 0.,\n",
       "           0., 0., 0., 0., 0., 0., 0.]]]),\n",
       " tensor([16]))"
      ]
     },
     "execution_count": 46,
     "metadata": {},
     "output_type": "execute_result"
    }
   ],
   "source": [
    "alldata[0]"
   ]
  },
  {
   "cell_type": "code",
   "execution_count": 51,
   "id": "1c5b1a84-da21-47a2-9978-6045642765f9",
   "metadata": {},
   "outputs": [
    {
     "name": "stdout",
     "output_type": "stream",
     "text": [
      "['Khoury', 'Nahas', 'Daher']\n",
      "['Arabic', 'Arabic', 'Arabic']\n",
      "[tensor([16]), tensor([16]), tensor([16])]\n"
     ]
    }
   ],
   "source": [
    "print(alldata.data[0:3])\n",
    "print(alldata.labels[0:3])\n",
    "print(alldata.label_tensors[0:3])"
   ]
  },
  {
   "cell_type": "code",
   "execution_count": 54,
   "id": "3e610709-a782-43df-b582-9d1bdfdce61c",
   "metadata": {},
   "outputs": [],
   "source": [
    "train_set, test_set = torch.utils.data.random_split(alldata,[0.85,0.15],generator = torch.Generator(device='cpu').manual_seed(2024))"
   ]
  },
  {
   "cell_type": "code",
   "execution_count": 55,
   "id": "9583de4d-4393-4e9b-a2ef-5871060238c4",
   "metadata": {},
   "outputs": [
    {
     "data": {
      "text/plain": [
       "17063"
      ]
     },
     "execution_count": 55,
     "metadata": {},
     "output_type": "execute_result"
    }
   ],
   "source": [
    "len(train_set)"
   ]
  },
  {
   "cell_type": "code",
   "execution_count": 56,
   "id": "eaa34d79-2c07-4e02-8bd7-226cba6eeadf",
   "metadata": {},
   "outputs": [
    {
     "data": {
      "text/plain": [
       "3011"
      ]
     },
     "execution_count": 56,
     "metadata": {},
     "output_type": "execute_result"
    }
   ],
   "source": [
    "len(test_set)"
   ]
  },
  {
   "cell_type": "code",
   "execution_count": 57,
   "id": "1139e04b-7d71-4448-8aec-fd6c3c64c206",
   "metadata": {},
   "outputs": [],
   "source": [
    "import torch.nn as nn\n",
    "import torch.nn.functional as F\n",
    "\n",
    "class CharRNN(nn.Module):\n",
    "    def __init__(self,input_size,hidden_size,output_size):\n",
    "        super(CharRNN,self).__init__() # set-up nn module in custom class properly\n",
    "\n",
    "        self.rnn = nn.RNN(input_size,hidden_size) # RNN layer\n",
    "        self.h2o = nn.Linear(hidden_size, output_size) # converts hidden layer into label scores \n",
    "        self.softmax = nn.LogSoftmax(dim=1) \n",
    "        # shape of hidden layer (no of layers,1,hidden size)\n",
    "    def forward(self,line_tensor):\n",
    "        rnn_out, hidden  = self.rnn(line_tensor)\n",
    "        output = self.h2o(hidden[0]) # last hidden layer\n",
    "        output = self.softmax(output) # converts scores to label probabilities\n",
    "\n",
    "        return output\n",
    "        \n",
    "        "
   ]
  },
  {
   "cell_type": "code",
   "execution_count": 58,
   "id": "d8ea05e4-d385-4ec3-9d08-e314b2a33d34",
   "metadata": {},
   "outputs": [],
   "source": [
    "# we can create an RN with 58 input nodes,128 hidden nodes(no of features for each label), and 18 outputs:"
   ]
  },
  {
   "cell_type": "code",
   "execution_count": 60,
   "id": "9eeffbed-d3a8-46a6-9463-a0d2966f7fa9",
   "metadata": {},
   "outputs": [
    {
     "name": "stdout",
     "output_type": "stream",
     "text": [
      "CharRNN(\n",
      "  (rnn): RNN(58, 128)\n",
      "  (h2o): Linear(in_features=128, out_features=18, bias=True)\n",
      "  (softmax): LogSoftmax(dim=1)\n",
      ")\n"
     ]
    }
   ],
   "source": [
    "n_hidden = 128\n",
    "rnn = CharRNN(n_letters,n_hidden, len(alldata.labels_unique))\n",
    "print(rnn)"
   ]
  },
  {
   "cell_type": "code",
   "execution_count": 61,
   "id": "cdb3f949-b4a0-4512-abc7-41d799153d2d",
   "metadata": {},
   "outputs": [],
   "source": [
    "def label_from_output(output,output_labels):\n",
    "    top_n, top_i = output.topk(1) # returns highest value from scores and its index which is a 1D tensor\n",
    "    label_i = top_i[0].item() # converts tensor to a regular python integer\n",
    "    return output_labels[label_i] , label_i"
   ]
  },
  {
   "cell_type": "code",
   "execution_count": 78,
   "id": "2e54330c-6f97-4d1d-8ec1-233f690af6b8",
   "metadata": {},
   "outputs": [
    {
     "name": "stdout",
     "output_type": "stream",
     "text": [
      "tensor([[-2.7657, -3.0304, -2.8415, -2.8252, -2.8677, -2.8456, -2.9232, -2.9924,\n",
      "         -2.9321, -2.9894, -2.9001, -2.9544, -2.9018, -2.8077, -2.8826, -2.8703,\n",
      "         -2.8674, -2.8687]], grad_fn=<LogSoftmaxBackward0>)\n",
      "('English', 0)\n"
     ]
    }
   ],
   "source": [
    "input = LineToTensor('Albert')\n",
    "output = rnn(input) # calls the forward(line_tensor) function\n",
    "print(output)\n",
    "print(label_from_output(output, alldata.labels_unique))\n"
   ]
  },
  {
   "cell_type": "code",
   "execution_count": 85,
   "id": "166555f1-69da-4f66-a32f-856989b8aa01",
   "metadata": {},
   "outputs": [],
   "source": [
    "import random\n",
    "import numpy as np\n",
    "\n",
    "def train(rnn, training_data, n_epoch = 10, n_batch_size = 64, report_every = 50, learning_rate = 0.2, criterion = nn.NLLLoss()):\n",
    "    \"\"\"\n",
    "    Learn on a batch of training_data for a specified number of iterations and reporting thresholds\n",
    "    \"\"\"\n",
    "    # Keep track of losses for plotting\n",
    "    current_loss = 0\n",
    "    all_losses = []\n",
    "    rnn.train()\n",
    "    optimizer = torch.optim.SGD(rnn.parameters(), lr=learning_rate)\n",
    "\n",
    "    start = time.time()\n",
    "    print(f\"training on data set with n = {len(training_data)}\")\n",
    "\n",
    "    for iter in range(1, n_epoch + 1):\n",
    "        rnn.zero_grad() # clear the gradients\n",
    "\n",
    "        # create some minibatches\n",
    "        # we cannot use dataloaders because each of our names is a different length\n",
    "        batches = list(range(len(training_data)))\n",
    "        random.shuffle(batches)\n",
    "        batches = np.array_split(batches,max(1,len(batches) //n_batch_size) )\n",
    "\n",
    "        for idx, batch in enumerate(batches):\n",
    "            batch_loss = 0\n",
    "            for i in batch: #for each example in this batch\n",
    "                text,label,text_tensor,label_tensor = training_data[i]\n",
    "                output = rnn.forward(text_tensor)\n",
    "                loss = criterion(output, label_tensor)\n",
    "                batch_loss += loss/len(batch)\n",
    "\n",
    "            # optimize parameters\n",
    "            batch_loss.backward()\n",
    "            nn.utils.clip_grad_norm_(rnn.parameters(), 3)\n",
    "            optimizer.step()\n",
    "            optimizer.zero_grad()\n",
    "\n",
    "            current_loss += batch_loss.item()\n",
    "\n",
    "        all_losses.append(current_loss / len(batches) )\n",
    "        if iter % report_every == 0:\n",
    "            print(f\"{iter} ({iter / n_epoch:.0%}): \\t average batch loss = {all_losses[-1]}\")\n",
    "        current_loss = 0\n",
    "\n",
    "    return all_losses"
   ]
  },
  {
   "cell_type": "code",
   "execution_count": 86,
   "id": "3c3cad66-1d84-4850-b998-3b4792368612",
   "metadata": {},
   "outputs": [
    {
     "name": "stdout",
     "output_type": "stream",
     "text": [
      "training on data set with n = 17063\n",
      "5 (19%): \t average batch loss = 0.9650455303210065\n",
      "10 (37%): \t average batch loss = 0.7916736754035592\n",
      "15 (56%): \t average batch loss = 0.6615829112610423\n",
      "20 (74%): \t average batch loss = 0.5693950047506425\n",
      "25 (93%): \t average batch loss = 0.4930999006207724\n",
      "The training took 1019.7038562297821 seconds\n"
     ]
    }
   ],
   "source": [
    "start = time.time()\n",
    "all_losses = train(rnn,train_set,n_epoch=27,learning_rate= 0.15,report_every = 5)\n",
    "end=  time.time()\n",
    "print(f'The training took {end-start} seconds')"
   ]
  },
  {
   "cell_type": "code",
   "execution_count": 87,
   "id": "922fdb59-61aa-4e37-b5aa-8555482cae8a",
   "metadata": {},
   "outputs": [
    {
     "data": {
      "image/png": "[encoded data removed]",
      "text/plain": [
       "<Figure size 640x480 with 1 Axes>"
      ]
     },
     "metadata": {},
     "output_type": "display_data"
    }
   ],
   "source": [
    "import matplotlib.pyplot as plt\n",
    "import matplotlib.ticker as ticker\n",
    "\n",
    "plt.figure\n",
    "plt.plot(all_losses)\n",
    "plt.show()"
   ]
  },
  {
   "cell_type": "code",
   "execution_count": 93,
   "id": "6e1d4fd6-857d-494c-b892-1132e90045dc",
   "metadata": {},
   "outputs": [],
   "source": [
    "def evaluation(rnn,testing_data,classes):\n",
    "    confusion = torch.zeros(len(classes),len(classes))\n",
    "    rnn.eval()\n",
    "    with torch.no_grad():\n",
    "        for i in range(len(testing_data)):\n",
    "            (text,label,text_tensor,label_tensor) = testing_data[i]\n",
    "            output = rnn(text_tensor)\n",
    "            guess,guess_i = label_from_output(output,classes)\n",
    "            label_i = classes.index(label)\n",
    "            confusion[label_i][guess_i]+=1\n",
    "\n",
    "    for i in range(len(classes)):\n",
    "        denom = confusion[i].sum()\n",
    "        if denom>0:\n",
    "            confusion[i] = confusion[i]/denom\n",
    "\n",
    "    # Set up plot\n",
    "    fig = plt.figure()\n",
    "    ax = fig.add_subplot(111)\n",
    "    cax = ax.matshow(confusion.cpu().numpy())\n",
    "    fig.colorbar(cax)\n",
    "\n",
    "    ax.set_xticks(np.arange(len(classes)), labels=classes,rotation=90)\n",
    "    ax.set_yticks(np.arange(len(classes)),labels = classes)\n",
    "\n",
    "    ax.xaxis.set_major_locator(ticker.MultipleLocator(1))\n",
    "    ax.yaxis.set_major_locator(ticker.MultipleLocator(1))\n",
    "\n",
    "    plt.show()\n",
    "    \n",
    "\n",
    "    \n",
    "    \n",
    "            "
   ]
  },
  {
   "cell_type": "code",
   "execution_count": 94,
   "id": "2634621a-2f5f-444c-a0bd-2a384bd6578d",
   "metadata": {},
   "outputs": [
    {
     "data": {
      "image/png": "[encoded data removed]",
      "text/plain": [
       "<Figure size 640x480 with 2 Axes>"
      ]
     },
     "metadata": {},
     "output_type": "display_data"
    }
   ],
   "source": [
    "evaluation(rnn,test_set,classes = alldata.labels_unique)"
   ]
  },
  {
   "cell_type": "code",
   "execution_count": null,
   "id": "d0a8a5e5-113f-43eb-b178-d2b39ade7189",
   "metadata": {},
   "outputs": [],
   "source": []
  }
 ],
 "metadata": {
  "kernelspec": {
   "display_name": "spacy-env-30-12-2024",
   "language": "python",
   "name": "spacy-env-30-12-2024"
  },
  "language_info": {
   "codemirror_mode": {
    "name": "ipython",
    "version": 3
   },
   "file_extension": ".py",
   "mimetype": "text/x-python",
   "name": "python",
   "nbconvert_exporter": "python",
   "pygments_lexer": "ipython3",
   "version": "3.11.0"
  }
 },
 "nbformat": 4,
 "nbformat_minor": 5
}
