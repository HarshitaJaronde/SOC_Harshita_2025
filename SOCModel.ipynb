{
  "nbformat": 4,
  "nbformat_minor": 0,
  "metadata": {
    "colab": {
      "provenance": []
    },
    "kernelspec": {
      "name": "python3",
      "display_name": "Python 3"
    },
    "language_info": {
      "name": "python"
    }
  },
  "cells": [
    {
      "cell_type": "code",
      "execution_count": null,
      "metadata": {
        "id": "LOkpN5Fc9_rB"
      },
      "outputs": [],
      "source": [
        "import os\n",
        "from io import open\n",
        "import torch\n",
        "import spacy\n",
        "import re\n",
        "nlp = spacy.load('en_core_web_sm')\n",
        "from tqdm import tqdm\n",
        "import torch.nn as nn\n"
      ]
    },
    {
      "cell_type": "markdown",
      "source": [
        "## Loading Files:\n",
        " We will first load our files, process its text and then separate statements and sentiments."
      ],
      "metadata": {
        "id": "ifhBnuzhaK8P"
      }
    },
    {
      "cell_type": "code",
      "source": [
        "def process_files(files):\n",
        "  statements = []\n",
        "  sentiments = []\n",
        "  for filename in files:\n",
        "    with open(filename,encoding='latin-1') as file:\n",
        "      text = file.read()\n",
        "      # Use regex to find currency and number patterns and add a space\n",
        "      text = re.sub(r\"(EUR|USD|GBP|euro|usd)\\s*(\\d+(\\.\\d+)?)\", r\"\\1 \\2\", text) # Added 'euro'\n",
        "      # Remove spaces within numbers (e.g., \"20 .4\" to \"20.4\")\n",
        "      text = re.sub(r\"(\\d)\\s+(\\d|\\.)\", r\"\\1\\2\", text)\n",
        "      text = re.sub(r\"(\\.)\\s+(\\d)\", r\"\\1\\2\", text)\n",
        "      text = re.sub( r\",(?=\\d)\",\"\",text)\n",
        "\n",
        "      extracts = re.findall(r'(.*)@(\\w+)',text) #all characters except new line before @ and word after @\n",
        "      for statement,sentiment in extracts:\n",
        "        s=''\n",
        "        statement = nlp(statement)\n",
        "        for token in statement:\n",
        "          if token.pos_!='PUNCT':\n",
        "            word = token.lemma_\n",
        "            s+=word+' '\n",
        "        statements.append(s)\n",
        "        sentiments.append(sentiment)\n",
        "\n",
        "  return statements,sentiments"
      ],
      "metadata": {
        "id": "uPEPneRqvM67"
      },
      "execution_count": null,
      "outputs": []
    },
    {
      "cell_type": "code",
      "source": [
        "files = ['/content/drive/MyDrive/Sentences_AllAgree.txt','/content/drive/MyDrive/Sentences_75Agree.txt','/content/drive/MyDrive/Sentences_66Agree.txt','/content/drive/MyDrive/Sentences_50Agree.txt']\n",
        "news_statements,news_sentiments = process_files(files)"
      ],
      "metadata": {
        "id": "UR1ouVve4aUo",
        "collapsed": true
      },
      "execution_count": null,
      "outputs": []
    },
    {
      "cell_type": "code",
      "source": [
        "len(news_statements)\n"
      ],
      "metadata": {
        "colab": {
          "base_uri": "https://localhost:8080/"
        },
        "id": "cuWmGidT4qJN",
        "outputId": "81a01e17-4497-44f5-e630-df7ed3560f23"
      },
      "execution_count": null,
      "outputs": [
        {
          "output_type": "execute_result",
          "data": {
            "text/plain": [
              "14780"
            ]
          },
          "metadata": {},
          "execution_count": 4
        }
      ]
    },
    {
      "cell_type": "markdown",
      "source": [
        "## Making and Saving Vocabulary:\n",
        "\n",
        "We need to extract unique words from all statements to make our vocabulary. I want to create tensors for each statement based on indexes of the words. However, there are numerical strings too and their importance must be retained for a stock setiment analysis model. This is why I will deal with them separately in my statement to tensor function."
      ],
      "metadata": {
        "id": "JMba18SMaSd6"
      }
    },
    {
      "cell_type": "code",
      "source": [
        "token_counter = {}\n",
        "with tqdm(total=len(news_statements)) as progress_bar:\n",
        "  for statement in news_statements:\n",
        "    statement = nlp(statement)\n",
        "    for token in statement:\n",
        "      if token.is_alpha:\n",
        "        token_text = token.text.lower()\n",
        "        if token_text not in token_counter:\n",
        "          token_counter[token_text] = 1\n",
        "        else:\n",
        "          token_counter[token_text]+=1\n",
        "    progress_bar.update(1)"
      ],
      "metadata": {
        "colab": {
          "base_uri": "https://localhost:8080/"
        },
        "id": "LooiNl7n_kRQ",
        "outputId": "023af95d-02ea-420a-c63a-5565a62a5a85"
      },
      "execution_count": null,
      "outputs": [
        {
          "output_type": "stream",
          "name": "stderr",
          "text": [
            "100%|██████████| 14780/14780 [02:27<00:00, 100.35it/s]\n"
          ]
        }
      ]
    },
    {
      "cell_type": "code",
      "source": [
        "len(list(token_counter.keys()))"
      ],
      "metadata": {
        "colab": {
          "base_uri": "https://localhost:8080/"
        },
        "id": "0nSEwR-ZllBm",
        "outputId": "2a5dd5c2-2039-4f03-a025-82723b1bac4d"
      },
      "execution_count": null,
      "outputs": [
        {
          "output_type": "execute_result",
          "data": {
            "text/plain": [
              "7502"
            ]
          },
          "metadata": {},
          "execution_count": 6
        }
      ]
    },
    {
      "cell_type": "markdown",
      "source": [
        "-> Our statement vector would begin with a start of string 'SOS' token and end with an end of string 'EOS' token. The '%' and 'us$' were not added in the counter due to .is_alpha attribute and hence we add them now.\n",
        "\n",
        "-> We could store the numbers as is but they might clash with words at that index and hence they will be saved with an offset."
      ],
      "metadata": {
        "id": "n2bg_jj_aYwQ"
      }
    },
    {
      "cell_type": "code",
      "source": [
        "unique_words = list(token_counter.keys())\n",
        "USD = 'us$'\n",
        "PERCENT_TOKEN = '%'\n",
        "SOS_TOKEN = 'SOS_TOKEN'\n",
        "EOS_TOKEN = 'EOS_TOKEN'\n",
        "UNK_TOKEN = 'UNK_TOKEN'\n",
        "\n",
        "word_to_index = {SOS_TOKEN:0.0, EOS_TOKEN:1.0, PERCENT_TOKEN:2.0,UNK_TOKEN:3,USD:4}\n",
        "for i,word in enumerate(unique_words):\n",
        "  word_to_index[word]  = float(i+5)\n",
        "\n",
        "NUM_OFFSET = float(len(list(word_to_index.keys())) - 1.0)\n",
        "NUM_OFFSET\n",
        "vocab_size = len(list(word_to_index.keys())) + 2000"
      ],
      "metadata": {
        "id": "4vcfzK_Z-i6A"
      },
      "execution_count": null,
      "outputs": []
    },
    {
      "cell_type": "code",
      "metadata": {
        "id": "c8f6816c",
        "collapsed": true
      },
      "source": [
        "import json\n",
        "\n",
        "with open('/content/drive/MyDrive/word_to_index.json', 'w') as f:\n",
        "    json.dump(word_to_index, f)"
      ],
      "execution_count": null,
      "outputs": []
    },
    {
      "cell_type": "code",
      "source": [
        "import json\n",
        "\n",
        "with open('/content/drive/MyDrive/word_to_index.json', 'r') as f:\n",
        "    word_to_index = json.load(f)\n",
        "\n",
        "\n",
        "print(len(list(word_to_index)))\n",
        "NUM_OFFSET = float(len(list(word_to_index.keys())) - 1.0)\n",
        "NUM_OFFSET"
      ],
      "metadata": {
        "id": "NPxeCHy8W1QN",
        "colab": {
          "base_uri": "https://localhost:8080/"
        },
        "outputId": "965f915a-72df-4652-d2db-f400c33db8b4"
      },
      "execution_count": null,
      "outputs": [
        {
          "output_type": "stream",
          "name": "stdout",
          "text": [
            "7507\n"
          ]
        },
        {
          "output_type": "execute_result",
          "data": {
            "text/plain": [
              "7506.0"
            ]
          },
          "metadata": {},
          "execution_count": 8
        }
      ]
    },
    {
      "cell_type": "code",
      "source": [
        "NUM_OFFSET = float(len(list(word_to_index.keys())) - 1.0)\n",
        "NUM_OFFSET\n",
        "vocab_size = len(list(word_to_index.keys())) + 200\n",
        "NUM_OFFSET"
      ],
      "metadata": {
        "id": "zR6xRdVR_qg9",
        "colab": {
          "base_uri": "https://localhost:8080/"
        },
        "outputId": "299cb1b2-dce1-4556-db46-a12fa4628586"
      },
      "execution_count": null,
      "outputs": [
        {
          "output_type": "execute_result",
          "data": {
            "text/plain": [
              "7506.0"
            ]
          },
          "metadata": {},
          "execution_count": 9
        }
      ]
    },
    {
      "cell_type": "markdown",
      "source": [
        "## Converting statements and sentiments into tensors:\n",
        "-> Many of the numbers are floating numbers in our data files and this is why I am creating tensors with dtype=float.32.\n",
        "\n",
        "-> If an unknown word not present in the vocabulary is encounteres, it can be assigned the index for the UNK_TOKEN"
      ],
      "metadata": {
        "id": "Edrac--kafBS"
      }
    },
    {
      "cell_type": "code",
      "source": [
        "def is_float_convertible(s):\n",
        "  try:\n",
        "    float(s)\n",
        "    return True\n",
        "  except ValueError:\n",
        "    return False"
      ],
      "metadata": {
        "id": "5a6tofFZwGVp"
      },
      "execution_count": null,
      "outputs": []
    },
    {
      "cell_type": "code",
      "source": [
        "def statement_to_tensor(statement):\n",
        "  indexes = []\n",
        "  statement = nlp(statement)\n",
        "  for token in statement:\n",
        "    if token.text.lower() in word_to_index:\n",
        "      indexes.append(word_to_index[token.text.lower()])\n",
        "    else:\n",
        "      if token.like_num and not token.is_alpha:\n",
        "        if is_float_convertible(token.text):\n",
        "          indexes.append(NUM_OFFSET+float(token.text))\n",
        "\n",
        "\n",
        "      else:\n",
        "        indexes.append(word_to_index[UNK_TOKEN])\n",
        "\n",
        "  tensor = torch.tensor(indexes,dtype=torch.float32)\n",
        "  return tensor.view(-1,1)\n",
        "\n",
        "\n"
      ],
      "metadata": {
        "id": "M9d9LwAQCuAM"
      },
      "execution_count": null,
      "outputs": []
    },
    {
      "cell_type": "code",
      "source": [
        "import torch\n",
        "def sentiment_to_label(s):\n",
        "  label = 0\n",
        "  if s=='positive':\n",
        "    label = 2\n",
        "  elif s=='negative':\n",
        "    label = 0\n",
        "  else:\n",
        "    label = 1\n",
        "  return torch.tensor(label)\n"
      ],
      "metadata": {
        "id": "4zEQXvaRnc-w"
      },
      "execution_count": null,
      "outputs": []
    },
    {
      "cell_type": "code",
      "source": [
        "sentiment_to_label('negative')"
      ],
      "metadata": {
        "colab": {
          "base_uri": "https://localhost:8080/"
        },
        "id": "loH9YOBdoGb8",
        "outputId": "cb24793d-57a9-48b1-9518-abc135e98297"
      },
      "execution_count": null,
      "outputs": [
        {
          "output_type": "execute_result",
          "data": {
            "text/plain": [
              "tensor(0)"
            ]
          },
          "metadata": {},
          "execution_count": 106
        }
      ]
    },
    {
      "cell_type": "code",
      "source": [
        "def vectorized_statements_sentiments(files):\n",
        "  statements,sentiments = process_files(files)\n",
        "  vectorized_statements = []\n",
        "  labels = []\n",
        "  for statement in statements:\n",
        "    vectorized_statements.append(statement_to_tensor(statement))\n",
        "  for sentiment in sentiments:\n",
        "    labels.append(sentiment_to_label(sentiment))\n",
        "  labels = torch.LongTensor(labels)\n",
        "  return vectorized_statements,labels\n"
      ],
      "metadata": {
        "id": "5w-rKtJNeAEZ"
      },
      "execution_count": null,
      "outputs": []
    },
    {
      "cell_type": "code",
      "source": [
        "statement_vecs,  labels = vectorized_statements_sentiments(['/content/drive/MyDrive/Sentences_AllAgree.txt'])\n",
        "labels[22]"
      ],
      "metadata": {
        "colab": {
          "base_uri": "https://localhost:8080/"
        },
        "id": "lZtlYmzuxVgd",
        "outputId": "4e7d13a2-ed47-42a6-cd68-1bf95e09ba83"
      },
      "execution_count": null,
      "outputs": [
        {
          "output_type": "execute_result",
          "data": {
            "text/plain": [
              "tensor(2)"
            ]
          },
          "metadata": {},
          "execution_count": 15
        }
      ]
    },
    {
      "cell_type": "code",
      "source": [
        "statement_vecs[0]"
      ],
      "metadata": {
        "colab": {
          "base_uri": "https://localhost:8080/"
        },
        "id": "1zBFKeW7kwRP",
        "outputId": "dba37b09-6d47-43b1-dc99-9798d8ded32c"
      },
      "execution_count": null,
      "outputs": [
        {
          "output_type": "execute_result",
          "data": {
            "text/plain": [
              "tensor([[ 5.],\n",
              "        [ 6.],\n",
              "        [ 7.],\n",
              "        [ 8.],\n",
              "        [ 9.],\n",
              "        [10.],\n",
              "        [11.],\n",
              "        [12.],\n",
              "        [ 6.],\n",
              "        [13.],\n",
              "        [14.],\n",
              "        [15.],\n",
              "        [ 6.],\n",
              "        [16.],\n",
              "        [17.],\n",
              "        [18.],\n",
              "        [19.],\n",
              "        [20.],\n",
              "        [ 8.],\n",
              "        [ 9.],\n",
              "        [19.],\n",
              "        [21.]])"
            ]
          },
          "metadata": {},
          "execution_count": 54
        }
      ]
    },
    {
      "cell_type": "markdown",
      "source": [
        "## Designing our neural network:\n",
        "\n",
        "* Since I am using tensors with floating inputs, embedding cannot be used. This is why I will convert the statement tensors into dense matrices with nn.Linear.\n",
        "* These will then be passed as x coordintes for the ReLU activation function.\n",
        "* Then we pass this sequence through LSTM.\n",
        "* Finally, we use the output from the last time step as input to a linear function with three output classes."
      ],
      "metadata": {
        "id": "6Y8TdDCzao6G"
      }
    },
    {
      "cell_type": "code",
      "source": [
        "\n",
        "input_size = 1\n",
        "hidden_size = 128\n",
        "num_layers = 1\n",
        "output_size = 3\n",
        "\n",
        "\n",
        "\n",
        "\n",
        "class Network(nn.Module):\n",
        "  def __init__(self,input_size,hidden_size,output_size):\n",
        "    super(Network,self).__init__()\n",
        "    self.hidden_size = hidden_size\n",
        "    self.output_size = output_size\n",
        "    self.l1 = nn.Linear(input_size,10)\n",
        "    self.relu = nn.ReLU()\n",
        "    self.lstm = nn.LSTM(10,hidden_size,num_layers = num_layers,bidirectional = True,batch_first=True)\n",
        "    self.l2 = nn.Linear(2*hidden_size,output_size)\n",
        "    self.softmax = nn.LogSoftmax(dim=1)\n",
        "\n",
        "\n",
        "  def forward(self,input,h,c):\n",
        "    input = self.relu(input)\n",
        "    dense_input = self.l1(input)\n",
        "    output,(h,c) = self.lstm(dense_input,(h,c))\n",
        "    output = self.l2(output[:,-1,:])\n",
        "    output = self.softmax(output)\n",
        "\n",
        "    return output\n",
        "\n",
        "\n",
        "\n",
        "\n",
        "\n"
      ],
      "metadata": {
        "id": "5XaPm7EPxklV"
      },
      "execution_count": null,
      "outputs": []
    },
    {
      "cell_type": "code",
      "source": [
        "lstm = Network(input_size,hidden_size,output_size)\n"
      ],
      "metadata": {
        "id": "1rdz9vHLyoI7"
      },
      "execution_count": null,
      "outputs": []
    },
    {
      "cell_type": "markdown",
      "source": [
        "## Training:\n",
        " ->I will use Sentences_AllAgree.txt for initial model training to ensure your model learns from the most unambiguous, high-confidence examples.\n",
        "\n",
        " ->Gradually include datasets with lower agreement (75%, 66%, 50%) to increase the diversity and coverage of your training data.\n",
        "\n",
        "->This exposes the model to more nuanced or ambiguous cases, which can improve its generalization to real-world data.\n"
      ],
      "metadata": {
        "id": "UANIwgWgazSX"
      }
    },
    {
      "cell_type": "code",
      "source": [
        "from torch.utils.data import Dataset, DataLoader"
      ],
      "metadata": {
        "id": "qoHghG7KPS2d"
      },
      "execution_count": null,
      "outputs": []
    },
    {
      "cell_type": "code",
      "source": [
        "class d(Dataset):\n",
        "  def __init__(self,statement_vecs,labels):\n",
        "    self.x = statement_vecs\n",
        "    self.y = labels\n",
        "    self.n_samples = len(statement_vecs)\n",
        "\n",
        "  def __getitem__(self,index):\n",
        "    return self.x[index],self.y[index]\n",
        "\n",
        "  def __len__(self):\n",
        "    return self.n_samples"
      ],
      "metadata": {
        "id": "eamrZk_YnZH2"
      },
      "execution_count": null,
      "outputs": []
    },
    {
      "cell_type": "code",
      "source": [
        "Allagree_ds = d(statement_vecs,labels)"
      ],
      "metadata": {
        "id": "FbcASsXFokt5"
      },
      "execution_count": null,
      "outputs": []
    },
    {
      "cell_type": "code",
      "metadata": {
        "id": "d5575986"
      },
      "source": [
        "import torch.nn.utils.rnn as rnn_utils\n",
        "import torch\n",
        "\n",
        "def collate_fn(batch):\n",
        "    # batch is a list of tuples: [(statement_vec, label), ...]\n",
        "    statement_vecs, labels = zip(*batch)\n",
        "\n",
        "    # Pad the statement vectors to the maximum length in the batch\n",
        "    # We use the index of the UNK_TOKEN as the padding value\n",
        "    padded_statement_vecs = rnn_utils.pad_sequence(statement_vecs, batch_first=True, padding_value=word_to_index[UNK_TOKEN])\n",
        "\n",
        "    # Convert labels to a tensor\n",
        "    labels = torch.stack(labels)\n",
        "\n",
        "    return padded_statement_vecs, labels"
      ],
      "execution_count": null,
      "outputs": []
    },
    {
      "cell_type": "code",
      "source": [
        "Allagree_dl = DataLoader(dataset = Allagree_ds, batch_size = 100, shuffle=True, collate_fn=collate_fn)"
      ],
      "metadata": {
        "id": "2UCVEzvfsOgz"
      },
      "execution_count": null,
      "outputs": []
    },
    {
      "cell_type": "code",
      "source": [
        "i = 0\n",
        "for batch in Allagree_dl:\n",
        "  statement,label = batch\n",
        "  print(statement.shape)\n",
        "  print(label.shape)\n",
        "  i+=1\n",
        "\n"
      ],
      "metadata": {
        "colab": {
          "base_uri": "https://localhost:8080/"
        },
        "outputId": "92dbb1bf-983d-4ef5-da20-edd4e9d6f4fc",
        "id": "kx6HPSDHsaoA"
      },
      "execution_count": null,
      "outputs": [
        {
          "output_type": "stream",
          "name": "stdout",
          "text": [
            "torch.Size([100, 49, 1])\n",
            "torch.Size([100])\n",
            "torch.Size([100, 52, 1])\n",
            "torch.Size([100])\n",
            "torch.Size([100, 45, 1])\n",
            "torch.Size([100])\n",
            "torch.Size([100, 46, 1])\n",
            "torch.Size([100])\n",
            "torch.Size([100, 43, 1])\n",
            "torch.Size([100])\n",
            "torch.Size([100, 45, 1])\n",
            "torch.Size([100])\n",
            "torch.Size([100, 44, 1])\n",
            "torch.Size([100])\n",
            "torch.Size([100, 49, 1])\n",
            "torch.Size([100])\n",
            "torch.Size([100, 48, 1])\n",
            "torch.Size([100])\n",
            "torch.Size([100, 50, 1])\n",
            "torch.Size([100])\n",
            "torch.Size([100, 46, 1])\n",
            "torch.Size([100])\n",
            "torch.Size([100, 52, 1])\n",
            "torch.Size([100])\n",
            "torch.Size([100, 43, 1])\n",
            "torch.Size([100])\n",
            "torch.Size([100, 51, 1])\n",
            "torch.Size([100])\n",
            "torch.Size([100, 50, 1])\n",
            "torch.Size([100])\n",
            "torch.Size([100, 50, 1])\n",
            "torch.Size([100])\n",
            "torch.Size([100, 42, 1])\n",
            "torch.Size([100])\n",
            "torch.Size([100, 42, 1])\n",
            "torch.Size([100])\n",
            "torch.Size([100, 51, 1])\n",
            "torch.Size([100])\n",
            "torch.Size([100, 48, 1])\n",
            "torch.Size([100])\n",
            "torch.Size([100, 46, 1])\n",
            "torch.Size([100])\n",
            "torch.Size([100, 47, 1])\n",
            "torch.Size([100])\n",
            "torch.Size([64, 39, 1])\n",
            "torch.Size([64])\n"
          ]
        }
      ]
    },
    {
      "cell_type": "code",
      "metadata": {
        "id": "24e3da8a"
      },
      "source": [
        "def evaluate(model, dataloader):\n",
        "    model.eval()  # Set the model to evaluation mode\n",
        "    total_loss = 0\n",
        "    correct_predictions = 0\n",
        "    total_samples = 0\n",
        "    criterion = nn.NLLLoss() # Using the same criterion as training\n",
        "\n",
        "    with torch.no_grad():  # Disable gradient calculation during evaluation\n",
        "        for padded_statement_vecs, labels in dataloader:\n",
        "            current_batch_size = padded_statement_vecs.size(0)\n",
        "\n",
        "            # Initialize hidden state for the current batch size\n",
        "            h_0 = torch.zeros(num_layers * 2, current_batch_size, hidden_size) # 2 for bidirectional\n",
        "            c_0 = torch.zeros(num_layers * 2, current_batch_size, hidden_size) # 2 for bidirectional\n",
        "\n",
        "            # Forward pass\n",
        "            output = model(padded_statement_vecs, h_0, c_0)\n",
        "\n",
        "            # Calculate loss\n",
        "            loss = criterion(output, labels.squeeze())\n",
        "            total_loss += loss.item() * current_batch_size # Accumulate loss weighted by batch size\n",
        "\n",
        "            # Calculate accuracy\n",
        "            _, predicted = torch.max(output.data, 1)\n",
        "            correct_predictions += (predicted == labels.squeeze()).sum().item()\n",
        "            total_samples += current_batch_size\n",
        "\n",
        "    average_loss = total_loss / total_samples\n",
        "    accuracy = correct_predictions / total_samples\n",
        "\n",
        "    return average_loss, accuracy"
      ],
      "execution_count": null,
      "outputs": []
    },
    {
      "cell_type": "code",
      "source": [
        "num_statements = len(statement_vecs)\n",
        "criterion = nn.NLLLoss()\n",
        "Allagree_losses = []\n",
        "optimizer = torch.optim.Adam(lstm.parameters(),lr = 0.00001)\n",
        "for epoch in range(100):\n",
        "  epoch_loss = 0\n",
        "  with tqdm(total = num_statements) as progress_bar:\n",
        "    for padded_statement_vecs, labels in Allagree_dl:\n",
        "      # Get the current batch size\n",
        "      current_batch_size = padded_statement_vecs.size(0)\n",
        "\n",
        "      # Initialize hidden state for the current batch size\n",
        "\n",
        "      h_0 = torch.zeros(2, current_batch_size, hidden_size)\n",
        "      c_0 = torch.zeros(2, current_batch_size, hidden_size)\n",
        "\n",
        "\n",
        "      # Zero the gradients\n",
        "      optimizer.zero_grad()\n",
        "\n",
        "      # Forward pass:\n",
        "\n",
        "      output = lstm.forward(padded_statement_vecs, h_0, c_0)\n",
        "\n",
        "\n",
        "      # Calculate the loss using the raw output and the label\n",
        "      # Our output is (batch_size, output_size)\n",
        "      # Our labels is (batch_size)\n",
        "      loss = criterion(output, labels.squeeze()) # Squeeze labels to ensure correct shape for NLLLoss\n",
        "\n",
        "\n",
        "      # Backward pass\n",
        "      loss.backward()\n",
        "\n",
        "      # Update weights\n",
        "      optimizer.step()\n",
        "\n",
        "      # Accumulate loss\n",
        "      epoch_loss += loss.item()\n",
        "      progress_bar.update(current_batch_size) # Update progress bar by batch size\n",
        "\n",
        "\n",
        "  # Print average loss for the epoch\n",
        "  avg_epoch_loss = epoch_loss / num_statements\n",
        "  Allagree_losses.append(avg_epoch_loss)\n",
        "  # Call evaluate and print the results\n",
        "  if (epoch+1)%10==0:\n",
        "    eval_loss, eval_accuracy = evaluate(lstm, Allagree_dl)\n",
        "    print(f\"Epoch {epoch+1}, Loss: {avg_epoch_loss:.4f}, Eval Loss: {eval_loss:.4f}, Eval Accuracy: {eval_accuracy:.4f}\")"
      ],
      "metadata": {
        "colab": {
          "base_uri": "https://localhost:8080/"
        },
        "outputId": "01e767f5-b731-4f83-aa22-e9e4e423d36f",
        "id": "FDfX6jDeAzpj"
      },
      "execution_count": null,
      "outputs": [
        {
          "output_type": "stream",
          "name": "stderr",
          "text": [
            "100%|██████████| 2264/2264 [00:07<00:00, 318.85it/s]\n",
            "100%|██████████| 2264/2264 [00:06<00:00, 372.05it/s]\n",
            "100%|██████████| 2264/2264 [00:07<00:00, 304.82it/s]\n",
            "100%|██████████| 2264/2264 [00:06<00:00, 356.79it/s]\n",
            "100%|██████████| 2264/2264 [00:07<00:00, 305.19it/s]\n",
            "100%|██████████| 2264/2264 [00:06<00:00, 358.19it/s]\n",
            "100%|██████████| 2264/2264 [00:07<00:00, 304.10it/s]\n",
            "100%|██████████| 2264/2264 [00:06<00:00, 368.37it/s]\n",
            "100%|██████████| 2264/2264 [00:07<00:00, 320.07it/s]\n",
            "100%|██████████| 2264/2264 [00:06<00:00, 368.44it/s]\n"
          ]
        },
        {
          "output_type": "stream",
          "name": "stdout",
          "text": [
            "Epoch 10, Loss: 0.0090, Eval Loss: 0.8873, Eval Accuracy: 0.6232\n"
          ]
        },
        {
          "output_type": "stream",
          "name": "stderr",
          "text": [
            "100%|██████████| 2264/2264 [00:07<00:00, 315.25it/s]\n",
            "100%|██████████| 2264/2264 [00:05<00:00, 379.44it/s]\n",
            "100%|██████████| 2264/2264 [00:07<00:00, 321.08it/s]\n",
            "100%|██████████| 2264/2264 [00:06<00:00, 373.40it/s]\n",
            "100%|██████████| 2264/2264 [00:07<00:00, 316.02it/s]\n",
            "100%|██████████| 2264/2264 [00:06<00:00, 377.12it/s]\n",
            "100%|██████████| 2264/2264 [00:07<00:00, 321.57it/s]\n",
            "100%|██████████| 2264/2264 [00:05<00:00, 378.40it/s]\n",
            "100%|██████████| 2264/2264 [00:06<00:00, 334.58it/s]\n",
            "100%|██████████| 2264/2264 [00:06<00:00, 363.13it/s]\n"
          ]
        },
        {
          "output_type": "stream",
          "name": "stdout",
          "text": [
            "Epoch 20, Loss: 0.0090, Eval Loss: 0.8797, Eval Accuracy: 0.6268\n"
          ]
        },
        {
          "output_type": "stream",
          "name": "stderr",
          "text": [
            "100%|██████████| 2264/2264 [00:07<00:00, 321.15it/s]\n",
            "100%|██████████| 2264/2264 [00:06<00:00, 373.78it/s]\n",
            "100%|██████████| 2264/2264 [00:06<00:00, 329.90it/s]\n",
            "100%|██████████| 2264/2264 [00:06<00:00, 352.22it/s]\n",
            "100%|██████████| 2264/2264 [00:06<00:00, 353.76it/s]\n",
            "100%|██████████| 2264/2264 [00:06<00:00, 354.09it/s]\n",
            "100%|██████████| 2264/2264 [00:06<00:00, 376.51it/s]\n",
            "100%|██████████| 2264/2264 [00:06<00:00, 332.31it/s]\n",
            "100%|██████████| 2264/2264 [00:05<00:00, 392.80it/s]\n",
            "100%|██████████| 2264/2264 [00:06<00:00, 327.76it/s]\n"
          ]
        },
        {
          "output_type": "stream",
          "name": "stdout",
          "text": [
            "Epoch 30, Loss: 0.0086, Eval Loss: 0.8441, Eval Accuracy: 0.6387\n"
          ]
        },
        {
          "output_type": "stream",
          "name": "stderr",
          "text": [
            "100%|██████████| 2264/2264 [00:05<00:00, 385.18it/s]\n",
            "100%|██████████| 2264/2264 [00:06<00:00, 326.02it/s]\n",
            "100%|██████████| 2264/2264 [00:05<00:00, 385.14it/s]\n",
            "100%|██████████| 2264/2264 [00:06<00:00, 328.43it/s]\n",
            "100%|██████████| 2264/2264 [00:05<00:00, 394.27it/s]\n",
            "100%|██████████| 2264/2264 [00:06<00:00, 336.16it/s]\n",
            "100%|██████████| 2264/2264 [00:05<00:00, 393.64it/s]\n",
            "100%|██████████| 2264/2264 [00:06<00:00, 350.67it/s]\n",
            "100%|██████████| 2264/2264 [00:06<00:00, 359.65it/s]\n",
            "100%|██████████| 2264/2264 [00:06<00:00, 361.27it/s]\n"
          ]
        },
        {
          "output_type": "stream",
          "name": "stdout",
          "text": [
            "Epoch 40, Loss: 0.0079, Eval Loss: 0.7748, Eval Accuracy: 0.7147\n"
          ]
        },
        {
          "output_type": "stream",
          "name": "stderr",
          "text": [
            "100%|██████████| 2264/2264 [00:06<00:00, 377.30it/s]\n",
            "100%|██████████| 2264/2264 [00:06<00:00, 359.95it/s]\n",
            "100%|██████████| 2264/2264 [00:06<00:00, 347.27it/s]\n",
            "100%|██████████| 2264/2264 [00:06<00:00, 376.75it/s]\n",
            "100%|██████████| 2264/2264 [00:06<00:00, 331.18it/s]\n",
            "100%|██████████| 2264/2264 [00:05<00:00, 379.41it/s]\n",
            "100%|██████████| 2264/2264 [00:07<00:00, 319.89it/s]\n",
            "100%|██████████| 2264/2264 [00:05<00:00, 381.23it/s]\n",
            "100%|██████████| 2264/2264 [00:07<00:00, 311.80it/s]\n",
            "100%|██████████| 2264/2264 [00:06<00:00, 362.54it/s]\n"
          ]
        },
        {
          "output_type": "stream",
          "name": "stdout",
          "text": [
            "Epoch 50, Loss: 0.0077, Eval Loss: 0.7581, Eval Accuracy: 0.7111\n"
          ]
        },
        {
          "output_type": "stream",
          "name": "stderr",
          "text": [
            "100%|██████████| 2264/2264 [00:07<00:00, 312.59it/s]\n",
            "100%|██████████| 2264/2264 [00:06<00:00, 375.13it/s]\n",
            "100%|██████████| 2264/2264 [00:07<00:00, 316.38it/s]\n",
            "100%|██████████| 2264/2264 [00:06<00:00, 373.79it/s]\n",
            "100%|██████████| 2264/2264 [00:07<00:00, 319.41it/s]\n",
            "100%|██████████| 2264/2264 [00:06<00:00, 367.90it/s]\n",
            "100%|██████████| 2264/2264 [00:07<00:00, 322.36it/s]\n",
            "100%|██████████| 2264/2264 [00:06<00:00, 373.27it/s]\n",
            "100%|██████████| 2264/2264 [00:07<00:00, 319.90it/s]\n",
            "100%|██████████| 2264/2264 [00:05<00:00, 395.75it/s]\n"
          ]
        },
        {
          "output_type": "stream",
          "name": "stdout",
          "text": [
            "Epoch 60, Loss: 0.0076, Eval Loss: 0.7460, Eval Accuracy: 0.7191\n"
          ]
        },
        {
          "output_type": "stream",
          "name": "stderr",
          "text": [
            "100%|██████████| 2264/2264 [00:06<00:00, 337.13it/s]\n",
            "100%|██████████| 2264/2264 [00:05<00:00, 399.08it/s]\n",
            "100%|██████████| 2264/2264 [00:06<00:00, 362.03it/s]\n",
            "100%|██████████| 2264/2264 [00:06<00:00, 359.19it/s]\n",
            "100%|██████████| 2264/2264 [00:05<00:00, 382.08it/s]\n",
            "100%|██████████| 2264/2264 [00:06<00:00, 337.92it/s]\n",
            "100%|██████████| 2264/2264 [00:05<00:00, 402.25it/s]\n",
            "100%|██████████| 2264/2264 [00:06<00:00, 331.85it/s]\n",
            "100%|██████████| 2264/2264 [00:05<00:00, 390.49it/s]\n",
            "100%|██████████| 2264/2264 [00:06<00:00, 333.74it/s]\n"
          ]
        },
        {
          "output_type": "stream",
          "name": "stdout",
          "text": [
            "Epoch 70, Loss: 0.0075, Eval Loss: 0.7380, Eval Accuracy: 0.7231\n"
          ]
        },
        {
          "output_type": "stream",
          "name": "stderr",
          "text": [
            "100%|██████████| 2264/2264 [00:05<00:00, 394.89it/s]\n",
            "100%|██████████| 2264/2264 [00:06<00:00, 331.70it/s]\n",
            "100%|██████████| 2264/2264 [00:05<00:00, 385.47it/s]\n",
            "100%|██████████| 2264/2264 [00:06<00:00, 336.44it/s]\n",
            "100%|██████████| 2264/2264 [00:06<00:00, 369.33it/s]\n",
            "100%|██████████| 2264/2264 [00:06<00:00, 364.93it/s]\n",
            "100%|██████████| 2264/2264 [00:06<00:00, 341.17it/s]\n",
            "100%|██████████| 2264/2264 [00:05<00:00, 379.71it/s]\n",
            "100%|██████████| 2264/2264 [00:07<00:00, 308.44it/s]\n",
            "100%|██████████| 2264/2264 [00:06<00:00, 376.09it/s]\n"
          ]
        },
        {
          "output_type": "stream",
          "name": "stdout",
          "text": [
            "Epoch 80, Loss: 0.0074, Eval Loss: 0.7283, Eval Accuracy: 0.7244\n"
          ]
        },
        {
          "output_type": "stream",
          "name": "stderr",
          "text": [
            "100%|██████████| 2264/2264 [00:06<00:00, 339.15it/s]\n",
            "100%|██████████| 2264/2264 [00:05<00:00, 390.28it/s]\n",
            "100%|██████████| 2264/2264 [00:06<00:00, 329.13it/s]\n",
            "100%|██████████| 2264/2264 [00:05<00:00, 393.40it/s]\n",
            "100%|██████████| 2264/2264 [00:06<00:00, 329.96it/s]\n",
            "100%|██████████| 2264/2264 [00:05<00:00, 391.92it/s]\n",
            "100%|██████████| 2264/2264 [00:06<00:00, 329.19it/s]\n",
            "100%|██████████| 2264/2264 [00:05<00:00, 388.78it/s]\n",
            "100%|██████████| 2264/2264 [00:06<00:00, 346.97it/s]\n",
            "100%|██████████| 2264/2264 [00:06<00:00, 365.34it/s]\n"
          ]
        },
        {
          "output_type": "stream",
          "name": "stdout",
          "text": [
            "Epoch 90, Loss: 0.0074, Eval Loss: 0.7263, Eval Accuracy: 0.7208\n"
          ]
        },
        {
          "output_type": "stream",
          "name": "stderr",
          "text": [
            "100%|██████████| 2264/2264 [00:06<00:00, 340.38it/s]\n",
            "100%|██████████| 2264/2264 [00:06<00:00, 375.12it/s]\n",
            "100%|██████████| 2264/2264 [00:06<00:00, 362.88it/s]\n",
            "100%|██████████| 2264/2264 [00:06<00:00, 350.59it/s]\n",
            "100%|██████████| 2264/2264 [00:05<00:00, 396.00it/s]\n",
            "100%|██████████| 2264/2264 [00:06<00:00, 336.94it/s]\n",
            "100%|██████████| 2264/2264 [00:05<00:00, 392.94it/s]\n",
            "100%|██████████| 2264/2264 [00:06<00:00, 336.07it/s]\n",
            "100%|██████████| 2264/2264 [00:05<00:00, 398.43it/s]\n",
            "100%|██████████| 2264/2264 [00:06<00:00, 335.34it/s]\n"
          ]
        },
        {
          "output_type": "stream",
          "name": "stdout",
          "text": [
            "Epoch 100, Loss: 0.0073, Eval Loss: 0.7134, Eval Accuracy: 0.7297\n"
          ]
        }
      ]
    },
    {
      "cell_type": "code",
      "source": [
        "Agree75_vecs,  Agree75_labels = vectorized_statements_sentiments(['/content/drive/MyDrive/Sentences_75Agree.txt'])\n",
        "Agree66_vecs, Agree66_labels = vectorized_statements_sentiments(['/content/drive/MyDrive/Sentences_66Agree.txt'])"
      ],
      "metadata": {
        "id": "C-4OahhVGf3z"
      },
      "execution_count": null,
      "outputs": []
    },
    {
      "cell_type": "code",
      "source": [
        "Agree75_ds = d(Agree75_vecs,Agree75_labels)\n",
        "Agree75_dl= DataLoader(dataset = Agree75_ds, batch_size = 100, shuffle=True, collate_fn=collate_fn)\n",
        "Agree66_ds = d(Agree66_vecs,Agree66_labels)\n",
        "Agree66_dl = DataLoader(dataset = Agree66_ds, batch_size = 100, shuffle=True, collate_fn=collate_fn)"
      ],
      "metadata": {
        "id": "9VmI0CKcH555"
      },
      "execution_count": null,
      "outputs": []
    },
    {
      "cell_type": "code",
      "source": [
        "num_statements = len(Agree75_vecs)\n",
        "criterion = nn.NLLLoss()\n",
        "Agree75_losses = []\n",
        "optimizer = torch.optim.Adam(lstm.parameters(),lr = 0.00001)\n",
        "for epoch in range(100):\n",
        "  epoch_loss = 0\n",
        "  with tqdm(total = num_statements) as progress_bar:\n",
        "    for padded_statement_vecs, labels in Agree75_dl:\n",
        "      # Get the current batch size\n",
        "      current_batch_size = padded_statement_vecs.size(0)\n",
        "\n",
        "      # Initialize hidden state for the current batch size\n",
        "\n",
        "      h_0 = torch.zeros(2, current_batch_size, hidden_size)\n",
        "      c_0 = torch.zeros(2, current_batch_size, hidden_size)\n",
        "\n",
        "\n",
        "      # Zero the gradients\n",
        "      optimizer.zero_grad()\n",
        "\n",
        "      # Forward pass:\n",
        "\n",
        "      output = lstm.forward(padded_statement_vecs, h_0, c_0)\n",
        "\n",
        "\n",
        "      # Calculate the loss using the raw output and the label\n",
        "      # Our output is (batch_size, output_size)\n",
        "      # Our labels is (batch_size)\n",
        "      loss = criterion(output, labels.squeeze()) # Squeeze labels to ensure correct shape for NLLLoss\n",
        "\n",
        "\n",
        "      # Backward pass\n",
        "      loss.backward()\n",
        "\n",
        "      # Update weights\n",
        "      optimizer.step()\n",
        "\n",
        "      # Accumulate loss\n",
        "      epoch_loss += loss.item()\n",
        "      progress_bar.update(current_batch_size) # Update progress bar by batch size\n",
        "\n",
        "\n",
        "  # Print average loss for the epoch\n",
        "  avg_epoch_loss = epoch_loss / num_statements\n",
        "  Agree75_losses.append(avg_epoch_loss)\n",
        "  # Call evaluate and print the results\n",
        "  if (epoch+1)%10==0:\n",
        "    eval_loss, eval_accuracy = evaluate(lstm, Agree75_dl)\n",
        "    print(f\"Epoch {epoch+1}, Loss: {avg_epoch_loss:.4f}, Eval Loss: {eval_loss:.4f}, Eval Accuracy: {eval_accuracy:.4f}\")"
      ],
      "metadata": {
        "colab": {
          "base_uri": "https://localhost:8080/"
        },
        "outputId": "42dddf13-e48a-43e6-df1a-fd0a9980e253",
        "id": "DECEsFYXOBQ1"
      },
      "execution_count": null,
      "outputs": [
        {
          "output_type": "stream",
          "name": "stderr",
          "text": [
            "100%|██████████| 3453/3453 [00:09<00:00, 357.37it/s]\n",
            "100%|██████████| 3453/3453 [00:09<00:00, 361.81it/s]\n",
            "100%|██████████| 3453/3453 [00:08<00:00, 414.04it/s]\n",
            "100%|██████████| 3453/3453 [00:09<00:00, 361.63it/s]\n",
            "100%|██████████| 3453/3453 [00:09<00:00, 362.20it/s]\n",
            "100%|██████████| 3453/3453 [00:08<00:00, 402.64it/s]\n",
            "100%|██████████| 3453/3453 [00:09<00:00, 353.39it/s]\n",
            "100%|██████████| 3453/3453 [00:09<00:00, 361.43it/s]\n",
            "100%|██████████| 3453/3453 [00:08<00:00, 392.47it/s]\n",
            "100%|██████████| 3453/3453 [00:09<00:00, 358.24it/s]\n"
          ]
        },
        {
          "output_type": "stream",
          "name": "stdout",
          "text": [
            "Epoch 10, Loss: 0.0076, Eval Loss: 0.7476, Eval Accuracy: 0.6953\n"
          ]
        },
        {
          "output_type": "stream",
          "name": "stderr",
          "text": [
            "100%|██████████| 3453/3453 [00:09<00:00, 360.32it/s]\n",
            "100%|██████████| 3453/3453 [00:08<00:00, 394.10it/s]\n",
            "100%|██████████| 3453/3453 [00:09<00:00, 369.12it/s]\n",
            "100%|██████████| 3453/3453 [00:09<00:00, 346.41it/s]\n",
            "100%|██████████| 3453/3453 [00:09<00:00, 381.77it/s]\n",
            "100%|██████████| 3453/3453 [00:09<00:00, 373.49it/s]\n",
            "100%|██████████| 3453/3453 [00:09<00:00, 358.25it/s]\n",
            "100%|██████████| 3453/3453 [00:08<00:00, 386.16it/s]\n",
            "100%|██████████| 3453/3453 [00:09<00:00, 369.07it/s]\n",
            "100%|██████████| 3453/3453 [00:09<00:00, 354.92it/s]\n"
          ]
        },
        {
          "output_type": "stream",
          "name": "stdout",
          "text": [
            "Epoch 20, Loss: 0.0075, Eval Loss: 0.7457, Eval Accuracy: 0.7032\n"
          ]
        },
        {
          "output_type": "stream",
          "name": "stderr",
          "text": [
            "100%|██████████| 3453/3453 [00:09<00:00, 359.14it/s]\n",
            "100%|██████████| 3453/3453 [00:08<00:00, 402.94it/s]\n",
            "100%|██████████| 3453/3453 [00:09<00:00, 361.70it/s]\n",
            "100%|██████████| 3453/3453 [00:09<00:00, 361.45it/s]\n",
            "100%|██████████| 3453/3453 [00:08<00:00, 413.77it/s]\n",
            "100%|██████████| 3453/3453 [00:09<00:00, 360.77it/s]\n",
            "100%|██████████| 3453/3453 [00:09<00:00, 368.26it/s]\n",
            "100%|██████████| 3453/3453 [00:08<00:00, 408.91it/s]\n",
            "100%|██████████| 3453/3453 [00:09<00:00, 361.83it/s]\n",
            "100%|██████████| 3453/3453 [00:09<00:00, 375.73it/s]\n"
          ]
        },
        {
          "output_type": "stream",
          "name": "stdout",
          "text": [
            "Epoch 30, Loss: 0.0075, Eval Loss: 0.7395, Eval Accuracy: 0.7003\n"
          ]
        },
        {
          "output_type": "stream",
          "name": "stderr",
          "text": [
            "100%|██████████| 3453/3453 [00:08<00:00, 411.76it/s]\n",
            "100%|██████████| 3453/3453 [00:09<00:00, 359.93it/s]\n",
            "100%|██████████| 3453/3453 [00:09<00:00, 351.57it/s]\n",
            "100%|██████████| 3453/3453 [00:08<00:00, 401.18it/s]\n",
            "100%|██████████| 3453/3453 [00:09<00:00, 351.38it/s]\n",
            "100%|██████████| 3453/3453 [00:09<00:00, 356.35it/s]\n",
            "100%|██████████| 3453/3453 [00:08<00:00, 400.73it/s]\n",
            "100%|██████████| 3453/3453 [00:09<00:00, 360.05it/s]\n",
            "100%|██████████| 3453/3453 [00:09<00:00, 362.44it/s]\n",
            "100%|██████████| 3453/3453 [00:09<00:00, 378.04it/s]\n"
          ]
        },
        {
          "output_type": "stream",
          "name": "stdout",
          "text": [
            "Epoch 40, Loss: 0.0075, Eval Loss: 0.7373, Eval Accuracy: 0.7034\n"
          ]
        },
        {
          "output_type": "stream",
          "name": "stderr",
          "text": [
            "100%|██████████| 3453/3453 [00:09<00:00, 380.39it/s]\n",
            "100%|██████████| 3453/3453 [00:10<00:00, 325.44it/s]\n",
            "100%|██████████| 3453/3453 [00:10<00:00, 343.33it/s]\n",
            "100%|██████████| 3453/3453 [00:09<00:00, 347.12it/s]\n",
            "100%|██████████| 3453/3453 [00:10<00:00, 327.23it/s]\n",
            "100%|██████████| 3453/3453 [00:10<00:00, 340.94it/s]\n",
            "100%|██████████| 3453/3453 [00:10<00:00, 339.20it/s]\n",
            "100%|██████████| 3453/3453 [00:09<00:00, 383.47it/s]\n",
            "100%|██████████| 3453/3453 [00:10<00:00, 335.15it/s]\n",
            "100%|██████████| 3453/3453 [00:10<00:00, 322.79it/s]\n"
          ]
        },
        {
          "output_type": "stream",
          "name": "stdout",
          "text": [
            "Epoch 50, Loss: 0.0075, Eval Loss: 0.7371, Eval Accuracy: 0.7006\n"
          ]
        },
        {
          "output_type": "stream",
          "name": "stderr",
          "text": [
            "100%|██████████| 3453/3453 [00:10<00:00, 334.35it/s]\n",
            "100%|██████████| 3453/3453 [00:08<00:00, 387.26it/s]\n",
            "100%|██████████| 3453/3453 [00:10<00:00, 334.06it/s]\n",
            "100%|██████████| 3453/3453 [00:10<00:00, 321.58it/s]\n",
            "100%|██████████| 3453/3453 [00:10<00:00, 336.15it/s]\n",
            "100%|██████████| 3453/3453 [00:09<00:00, 372.12it/s]\n",
            "100%|██████████| 3453/3453 [00:10<00:00, 338.22it/s]\n",
            "100%|██████████| 3453/3453 [00:10<00:00, 321.15it/s]\n",
            "100%|██████████| 3453/3453 [00:09<00:00, 378.67it/s]\n",
            "100%|██████████| 3453/3453 [00:10<00:00, 333.69it/s]\n"
          ]
        },
        {
          "output_type": "stream",
          "name": "stdout",
          "text": [
            "Epoch 60, Loss: 0.0074, Eval Loss: 0.7352, Eval Accuracy: 0.7008\n"
          ]
        },
        {
          "output_type": "stream",
          "name": "stderr",
          "text": [
            "100%|██████████| 3453/3453 [00:09<00:00, 350.12it/s]\n",
            "100%|██████████| 3453/3453 [00:09<00:00, 350.28it/s]\n",
            "100%|██████████| 3453/3453 [00:08<00:00, 390.41it/s]\n",
            "100%|██████████| 3453/3453 [00:09<00:00, 346.10it/s]\n",
            "100%|██████████| 3453/3453 [00:10<00:00, 329.87it/s]\n",
            "100%|██████████| 3453/3453 [00:09<00:00, 348.62it/s]\n",
            "100%|██████████| 3453/3453 [00:08<00:00, 384.43it/s]\n",
            "100%|██████████| 3453/3453 [00:10<00:00, 341.48it/s]\n",
            "100%|██████████| 3453/3453 [00:11<00:00, 311.63it/s]\n",
            "100%|██████████| 3453/3453 [00:09<00:00, 353.22it/s]\n"
          ]
        },
        {
          "output_type": "stream",
          "name": "stdout",
          "text": [
            "Epoch 70, Loss: 0.0075, Eval Loss: 0.7319, Eval Accuracy: 0.7037\n"
          ]
        },
        {
          "output_type": "stream",
          "name": "stderr",
          "text": [
            "100%|██████████| 3453/3453 [00:09<00:00, 380.92it/s]\n",
            "100%|██████████| 3453/3453 [00:10<00:00, 327.88it/s]\n",
            "100%|██████████| 3453/3453 [00:09<00:00, 346.32it/s]\n",
            "100%|██████████| 3453/3453 [00:08<00:00, 384.62it/s]\n",
            "100%|██████████| 3453/3453 [00:10<00:00, 339.99it/s]\n",
            "100%|██████████| 3453/3453 [00:10<00:00, 337.15it/s]\n",
            "100%|██████████| 3453/3453 [00:08<00:00, 389.97it/s]\n",
            "100%|██████████| 3453/3453 [00:09<00:00, 357.77it/s]\n",
            "100%|██████████| 3453/3453 [00:09<00:00, 347.17it/s]\n",
            "100%|██████████| 3453/3453 [00:09<00:00, 355.01it/s]\n"
          ]
        },
        {
          "output_type": "stream",
          "name": "stdout",
          "text": [
            "Epoch 80, Loss: 0.0074, Eval Loss: 0.7348, Eval Accuracy: 0.7011\n"
          ]
        },
        {
          "output_type": "stream",
          "name": "stderr",
          "text": [
            "100%|██████████| 3453/3453 [00:08<00:00, 385.99it/s]\n",
            "100%|██████████| 3453/3453 [00:09<00:00, 346.50it/s]\n",
            "100%|██████████| 3453/3453 [00:10<00:00, 344.38it/s]\n",
            "100%|██████████| 3453/3453 [00:09<00:00, 367.06it/s]\n",
            "100%|██████████| 3453/3453 [00:09<00:00, 364.40it/s]\n",
            "100%|██████████| 3453/3453 [00:09<00:00, 346.36it/s]\n",
            "100%|██████████| 3453/3453 [00:09<00:00, 351.78it/s]\n",
            "100%|██████████| 3453/3453 [00:08<00:00, 384.80it/s]\n",
            "100%|██████████| 3453/3453 [00:09<00:00, 351.21it/s]\n",
            "100%|██████████| 3453/3453 [00:09<00:00, 354.44it/s]\n"
          ]
        },
        {
          "output_type": "stream",
          "name": "stdout",
          "text": [
            "Epoch 90, Loss: 0.0074, Eval Loss: 0.7328, Eval Accuracy: 0.7032\n"
          ]
        },
        {
          "output_type": "stream",
          "name": "stderr",
          "text": [
            "100%|██████████| 3453/3453 [00:09<00:00, 361.48it/s]\n",
            "100%|██████████| 3453/3453 [00:09<00:00, 368.76it/s]\n",
            "100%|██████████| 3453/3453 [00:09<00:00, 363.80it/s]\n",
            "100%|██████████| 3453/3453 [00:09<00:00, 358.37it/s]\n",
            "100%|██████████| 3453/3453 [00:09<00:00, 373.57it/s]\n",
            "100%|██████████| 3453/3453 [00:09<00:00, 347.38it/s]\n",
            "100%|██████████| 3453/3453 [00:09<00:00, 346.53it/s]\n",
            "100%|██████████| 3453/3453 [00:09<00:00, 381.11it/s]\n",
            "100%|██████████| 3453/3453 [00:09<00:00, 356.53it/s]\n",
            "100%|██████████| 3453/3453 [00:10<00:00, 340.77it/s]\n"
          ]
        },
        {
          "output_type": "stream",
          "name": "stdout",
          "text": [
            "Epoch 100, Loss: 0.0074, Eval Loss: 0.7310, Eval Accuracy: 0.7032\n"
          ]
        }
      ]
    },
    {
      "cell_type": "code",
      "source": [
        "num_statements = len(Agree66_vecs)\n",
        "criterion = nn.NLLLoss()\n",
        "Agree66_losses = []\n",
        "optimizer = torch.optim.Adam(lstm.parameters(),lr = 0.00001)\n",
        "for epoch in range(100):\n",
        "  epoch_loss = 0\n",
        "  with tqdm(total = num_statements) as progress_bar:\n",
        "    for padded_statement_vecs, labels in Agree66_dl:\n",
        "      # Get the current batch size\n",
        "      current_batch_size = padded_statement_vecs.size(0)\n",
        "\n",
        "      # Initialize hidden state for the current batch size\n",
        "\n",
        "      h_0 = torch.zeros(2, current_batch_size, hidden_size)\n",
        "      c_0 = torch.zeros(2, current_batch_size, hidden_size)\n",
        "\n",
        "\n",
        "      # Zero the gradients\n",
        "      optimizer.zero_grad()\n",
        "\n",
        "      # Forward pass:\n",
        "\n",
        "      output = lstm.forward(padded_statement_vecs, h_0, c_0)\n",
        "\n",
        "\n",
        "      # Calculate the loss using the raw output and the label\n",
        "      # Our output is (batch_size, output_size)\n",
        "      # Our labels is (batch_size)\n",
        "      loss = criterion(output, labels.squeeze()) # Squeeze labels to ensure correct shape for NLLLoss\n",
        "\n",
        "\n",
        "      # Backward pass\n",
        "      loss.backward()\n",
        "\n",
        "      # Update weights\n",
        "      optimizer.step()\n",
        "\n",
        "      # Accumulate loss\n",
        "      epoch_loss += loss.item()\n",
        "      progress_bar.update(current_batch_size) # Update progress bar by batch size\n",
        "\n",
        "\n",
        "  # Print average loss for the epoch\n",
        "  avg_epoch_loss = epoch_loss / num_statements\n",
        "  Agree66_losses.append(avg_epoch_loss)\n",
        "  # Call evaluate and print the results\n",
        "  if (epoch+1)%10==0:\n",
        "    eval_loss, eval_accuracy = evaluate(lstm, Agree66_dl)\n",
        "    print(f\"Epoch {epoch+1}, Loss: {avg_epoch_loss:.4f}, Eval Loss: {eval_loss:.4f}, Eval Accuracy: {eval_accuracy:.4f}\")"
      ],
      "metadata": {
        "colab": {
          "base_uri": "https://localhost:8080/"
        },
        "outputId": "ad19a7bf-c7b8-4927-d2aa-04d45a37c427",
        "id": "yFm0vj8CSizC"
      },
      "execution_count": null,
      "outputs": [
        {
          "output_type": "stream",
          "name": "stderr",
          "text": [
            "100%|██████████| 4217/4217 [00:11<00:00, 351.68it/s]\n",
            "100%|██████████| 4217/4217 [00:12<00:00, 348.47it/s]\n",
            "100%|██████████| 4217/4217 [00:13<00:00, 318.89it/s]\n",
            "100%|██████████| 4217/4217 [00:12<00:00, 342.51it/s]\n",
            "100%|██████████| 4217/4217 [00:11<00:00, 354.26it/s]\n",
            "100%|██████████| 4217/4217 [00:11<00:00, 360.54it/s]\n",
            "100%|██████████| 4217/4217 [00:11<00:00, 376.71it/s]\n",
            "100%|██████████| 4217/4217 [00:12<00:00, 347.32it/s]\n",
            "100%|██████████| 4217/4217 [00:12<00:00, 346.43it/s]\n",
            "100%|██████████| 4217/4217 [00:13<00:00, 310.21it/s]\n"
          ]
        },
        {
          "output_type": "stream",
          "name": "stdout",
          "text": [
            "Epoch 10, Loss: 0.0082, Eval Loss: 0.7965, Eval Accuracy: 0.6661\n"
          ]
        },
        {
          "output_type": "stream",
          "name": "stderr",
          "text": [
            "100%|██████████| 4217/4217 [00:12<00:00, 336.59it/s]\n",
            "100%|██████████| 4217/4217 [00:12<00:00, 348.92it/s]\n",
            "100%|██████████| 4217/4217 [00:12<00:00, 345.98it/s]\n",
            "100%|██████████| 4217/4217 [00:12<00:00, 343.69it/s]\n",
            "100%|██████████| 4217/4217 [00:11<00:00, 355.77it/s]\n",
            "100%|██████████| 4217/4217 [00:12<00:00, 329.55it/s]\n",
            "100%|██████████| 4217/4217 [00:12<00:00, 346.69it/s]\n",
            "100%|██████████| 4217/4217 [00:12<00:00, 345.66it/s]\n",
            "100%|██████████| 4217/4217 [00:12<00:00, 347.96it/s]\n",
            "100%|██████████| 4217/4217 [00:12<00:00, 345.50it/s]\n"
          ]
        },
        {
          "output_type": "stream",
          "name": "stdout",
          "text": [
            "Epoch 20, Loss: 0.0082, Eval Loss: 0.7971, Eval Accuracy: 0.6661\n"
          ]
        },
        {
          "output_type": "stream",
          "name": "stderr",
          "text": [
            "100%|██████████| 4217/4217 [00:12<00:00, 346.03it/s]\n",
            "100%|██████████| 4217/4217 [00:12<00:00, 335.14it/s]\n",
            "100%|██████████| 4217/4217 [00:13<00:00, 306.63it/s]\n",
            "100%|██████████| 4217/4217 [00:13<00:00, 320.40it/s]\n",
            "100%|██████████| 4217/4217 [00:16<00:00, 259.26it/s]\n",
            "100%|██████████| 4217/4217 [00:12<00:00, 351.14it/s]\n",
            "100%|██████████| 4217/4217 [00:13<00:00, 306.49it/s]\n",
            "100%|██████████| 4217/4217 [00:13<00:00, 307.68it/s]\n",
            "100%|██████████| 4217/4217 [00:13<00:00, 316.80it/s]\n",
            "100%|██████████| 4217/4217 [00:12<00:00, 332.53it/s]\n"
          ]
        },
        {
          "output_type": "stream",
          "name": "stdout",
          "text": [
            "Epoch 30, Loss: 0.0082, Eval Loss: 0.7976, Eval Accuracy: 0.6668\n"
          ]
        },
        {
          "output_type": "stream",
          "name": "stderr",
          "text": [
            "100%|██████████| 4217/4217 [00:14<00:00, 299.96it/s]\n",
            "100%|██████████| 4217/4217 [00:13<00:00, 301.37it/s]\n",
            "100%|██████████| 4217/4217 [00:13<00:00, 319.64it/s]\n",
            "100%|██████████| 4217/4217 [00:12<00:00, 333.58it/s]\n",
            "100%|██████████| 4217/4217 [00:11<00:00, 356.28it/s]\n",
            "100%|██████████| 4217/4217 [00:14<00:00, 291.28it/s]\n",
            "100%|██████████| 4217/4217 [00:12<00:00, 333.95it/s]\n",
            "100%|██████████| 4217/4217 [00:13<00:00, 318.49it/s]\n",
            "100%|██████████| 4217/4217 [00:13<00:00, 307.90it/s]\n",
            "100%|██████████| 4217/4217 [00:13<00:00, 306.46it/s]\n"
          ]
        },
        {
          "output_type": "stream",
          "name": "stdout",
          "text": [
            "Epoch 40, Loss: 0.0081, Eval Loss: 0.7970, Eval Accuracy: 0.6678\n"
          ]
        },
        {
          "output_type": "stream",
          "name": "stderr",
          "text": [
            "100%|██████████| 4217/4217 [00:12<00:00, 346.75it/s]\n",
            "100%|██████████| 4217/4217 [00:12<00:00, 344.64it/s]\n",
            "100%|██████████| 4217/4217 [00:12<00:00, 343.91it/s]\n",
            "100%|██████████| 4217/4217 [00:12<00:00, 344.32it/s]\n",
            "100%|██████████| 4217/4217 [00:12<00:00, 338.09it/s]\n",
            "100%|██████████| 4217/4217 [00:14<00:00, 297.27it/s]\n",
            "100%|██████████| 4217/4217 [00:14<00:00, 290.41it/s]\n",
            "100%|██████████| 4217/4217 [00:14<00:00, 291.40it/s]\n",
            "100%|██████████| 4217/4217 [00:15<00:00, 275.09it/s]\n",
            "100%|██████████| 4217/4217 [00:13<00:00, 316.40it/s]\n"
          ]
        },
        {
          "output_type": "stream",
          "name": "stdout",
          "text": [
            "Epoch 50, Loss: 0.0081, Eval Loss: 0.7990, Eval Accuracy: 0.6685\n"
          ]
        },
        {
          "output_type": "stream",
          "name": "stderr",
          "text": [
            "100%|██████████| 4217/4217 [00:12<00:00, 326.83it/s]\n",
            "100%|██████████| 4217/4217 [00:12<00:00, 329.63it/s]\n",
            "100%|██████████| 4217/4217 [00:12<00:00, 349.35it/s]\n",
            "100%|██████████| 4217/4217 [00:11<00:00, 362.57it/s]\n",
            "100%|██████████| 4217/4217 [00:13<00:00, 323.87it/s]\n",
            "100%|██████████| 4217/4217 [00:11<00:00, 352.16it/s]\n",
            "100%|██████████| 4217/4217 [00:12<00:00, 346.24it/s]\n",
            "100%|██████████| 4217/4217 [00:12<00:00, 347.97it/s]\n",
            "100%|██████████| 4217/4217 [00:11<00:00, 353.27it/s]\n",
            "100%|██████████| 4217/4217 [00:11<00:00, 352.67it/s]\n"
          ]
        },
        {
          "output_type": "stream",
          "name": "stdout",
          "text": [
            "Epoch 60, Loss: 0.0081, Eval Loss: 0.7957, Eval Accuracy: 0.6678\n"
          ]
        },
        {
          "output_type": "stream",
          "name": "stderr",
          "text": [
            "100%|██████████| 4217/4217 [00:12<00:00, 336.82it/s]\n",
            "100%|██████████| 4217/4217 [00:11<00:00, 356.63it/s]\n",
            "100%|██████████| 4217/4217 [00:11<00:00, 370.94it/s]\n",
            "100%|██████████| 4217/4217 [00:11<00:00, 362.57it/s]\n",
            "100%|██████████| 4217/4217 [00:11<00:00, 352.75it/s]\n",
            "100%|██████████| 4217/4217 [00:17<00:00, 239.50it/s]\n",
            "100%|██████████| 4217/4217 [00:12<00:00, 345.29it/s]\n",
            "100%|██████████| 4217/4217 [00:12<00:00, 347.62it/s]\n",
            "100%|██████████| 4217/4217 [00:12<00:00, 347.95it/s]\n",
            "100%|██████████| 4217/4217 [00:11<00:00, 351.86it/s]\n"
          ]
        },
        {
          "output_type": "stream",
          "name": "stdout",
          "text": [
            "Epoch 70, Loss: 0.0081, Eval Loss: 0.7928, Eval Accuracy: 0.6697\n"
          ]
        },
        {
          "output_type": "stream",
          "name": "stderr",
          "text": [
            "100%|██████████| 4217/4217 [00:11<00:00, 354.46it/s]\n",
            "100%|██████████| 4217/4217 [00:11<00:00, 369.23it/s]\n",
            "100%|██████████| 4217/4217 [00:11<00:00, 370.82it/s]\n",
            "100%|██████████| 4217/4217 [00:11<00:00, 352.95it/s]\n",
            "100%|██████████| 4217/4217 [00:11<00:00, 353.15it/s]\n",
            "100%|██████████| 4217/4217 [00:11<00:00, 352.62it/s]\n",
            "100%|██████████| 4217/4217 [00:11<00:00, 351.79it/s]\n",
            "100%|██████████| 4217/4217 [00:11<00:00, 353.06it/s]\n",
            "100%|██████████| 4217/4217 [00:10<00:00, 384.33it/s]\n",
            "100%|██████████| 4217/4217 [00:11<00:00, 363.61it/s]\n"
          ]
        },
        {
          "output_type": "stream",
          "name": "stdout",
          "text": [
            "Epoch 80, Loss: 0.0081, Eval Loss: 0.7939, Eval Accuracy: 0.6697\n"
          ]
        },
        {
          "output_type": "stream",
          "name": "stderr",
          "text": [
            "100%|██████████| 4217/4217 [00:11<00:00, 368.12it/s]\n",
            "100%|██████████| 4217/4217 [00:11<00:00, 351.50it/s]\n",
            "100%|██████████| 4217/4217 [00:12<00:00, 351.23it/s]\n",
            "100%|██████████| 4217/4217 [00:11<00:00, 356.62it/s]\n",
            "100%|██████████| 4217/4217 [00:11<00:00, 352.68it/s]\n",
            "100%|██████████| 4217/4217 [00:11<00:00, 358.54it/s]\n",
            "100%|██████████| 4217/4217 [00:11<00:00, 372.03it/s]\n",
            "100%|██████████| 4217/4217 [00:11<00:00, 354.74it/s]\n",
            "100%|██████████| 4217/4217 [00:12<00:00, 350.21it/s]\n",
            "100%|██████████| 4217/4217 [00:12<00:00, 346.20it/s]\n"
          ]
        },
        {
          "output_type": "stream",
          "name": "stdout",
          "text": [
            "Epoch 90, Loss: 0.0081, Eval Loss: 0.7910, Eval Accuracy: 0.6685\n"
          ]
        },
        {
          "output_type": "stream",
          "name": "stderr",
          "text": [
            "100%|██████████| 4217/4217 [00:12<00:00, 345.77it/s]\n",
            "100%|██████████| 4217/4217 [00:12<00:00, 344.82it/s]\n",
            "100%|██████████| 4217/4217 [00:12<00:00, 345.91it/s]\n",
            "100%|██████████| 4217/4217 [00:12<00:00, 343.33it/s]\n",
            "100%|██████████| 4217/4217 [00:11<00:00, 355.51it/s]\n",
            "100%|██████████| 4217/4217 [00:11<00:00, 362.51it/s]\n",
            "100%|██████████| 4217/4217 [00:11<00:00, 351.52it/s]\n",
            "100%|██████████| 4217/4217 [00:12<00:00, 348.65it/s]\n",
            "100%|██████████| 4217/4217 [00:12<00:00, 347.89it/s]\n",
            "100%|██████████| 4217/4217 [00:12<00:00, 350.68it/s]\n"
          ]
        },
        {
          "output_type": "stream",
          "name": "stdout",
          "text": [
            "Epoch 100, Loss: 0.0081, Eval Loss: 0.7912, Eval Accuracy: 0.6706\n"
          ]
        }
      ]
    },
    {
      "cell_type": "code",
      "metadata": {
        "colab": {
          "base_uri": "https://localhost:8080/",
          "height": 564
        },
        "id": "2cb9d7e2",
        "outputId": "8fd5ac1e-6348-4a74-c47a-1501a9f7cc19"
      },
      "source": [
        "import matplotlib.pyplot as plt\n",
        "\n",
        "plt.figure(figsize=(10, 6))\n",
        "plt.plot(Allagree_losses, label='AllAgree Loss')\n",
        "plt.plot(Agree75_losses, label='Agree75 Loss')\n",
        "plt.plot(Agree66_losses, label='Agree66 Loss')\n",
        "plt.xlabel('Epoch')\n",
        "plt.ylabel('Loss')\n",
        "plt.title('Training Loss over Epochs')\n",
        "plt.legend()\n",
        "plt.grid(True)\n",
        "plt.show()"
      ],
      "execution_count": null,
      "outputs": [
        {
          "output_type": "display_data",
          "data": {
            "text/plain": [
              "<Figure size 1000x600 with 1 Axes>"
            ],
            "image/png": "[encoded data removed]"
          },
          "metadata": {}
        }
      ]
    },
    {
      "cell_type": "code",
      "source": [
        "def process_filesn(files):\n",
        "  statements = []\n",
        "  sentiments = []\n",
        "  for filename in files:\n",
        "    with open(filename,encoding='utf-8') as file:\n",
        "      text = file.read()\n",
        "      text = re.sub( r\",(?=\\d)\",\"\",text)\n",
        "\n",
        "      extracts = re.findall(r'(.*)@(.*)',text) #all characters except new line before @ and rate change after @\n",
        "      for statement,sentiment in extracts:\n",
        "        s=''\n",
        "        statement = nlp(statement)\n",
        "        for token in statement:\n",
        "          if token.pos_!='PUNCT':\n",
        "            word = token.lemma_\n",
        "            s+=word+' '\n",
        "        statements.append(s)\n",
        "        sentiments.append(sentiment)\n",
        "\n",
        "  return statements,sentiments"
      ],
      "metadata": {
        "id": "Ayms2abXUUmS"
      },
      "execution_count": null,
      "outputs": []
    },
    {
      "cell_type": "code",
      "source": [
        "sample_statements,price_change = process_filesn(['/content/drive/MyDrive/newsVSchange.txt'])\n",
        "print(sample_statements)\n",
        "print(price_change)"
      ],
      "metadata": {
        "colab": {
          "base_uri": "https://localhost:8080/"
        },
        "id": "EGo-4tHYewqh",
        "outputId": "97561ed9-3b6e-40c6-b6f8-a1c835db92c6"
      },
      "execution_count": null,
      "outputs": [
        {
          "output_type": "stream",
          "name": "stdout",
          "text": [
            "['Tesla share fall nearly 8 % after Elon Musk launch America Party ', 'Tesla stock soar after Elon Musk regret clash with Donald Trump ', 'announce 9 % yoy decline in total May sale passenger vehicle down 11 % ', 'announce ₹ 15000 crore capex plan for FY26 Q4 net profit more than double ', 'report 25 % yoy rise in Q4 profit record annual revenue and strong renewable growth ', 'inaugurated Phase II expansion of Kalinganagar plant boost capacity ', 'Q1 FY26 sale report 210415 unit 10 % yoy decline ', '118th Annual General Meeting share rally on positive steel outlook ', 'Tribunal order $ 490 m damage record solar project commission ', 'minor share price drop amid broad market analysis ', 'JLR Q1 FY26 wholesale down 10.7 % global wholesale down 9 % rebound as JLR business update release ', 'steady crude steel output deliverie down 3.8 % due to shutdown ']\n",
            "['-8', '+10', '-2.98', '+4.4', '+3.0', '+2.5', '-0.61', '+0.27', '-0.20', '+0.63', '-0.06', '+0.04']\n"
          ]
        }
      ]
    },
    {
      "cell_type": "code",
      "source": [
        "def vectorized_statements(files):\n",
        "  statements,price_change = process_filesn(files)\n",
        "  vectorized_statements = []\n",
        "  for statement in statements:\n",
        "    vectorized_statements.append(statement_to_tensor(statement))\n",
        "  for i in range(len(price_change)):\n",
        "    price_change[i] = float(price_change[i])\n",
        "\n",
        "  return vectorized_statements,price_change\n"
      ],
      "metadata": {
        "id": "GM99hBMUd-lu"
      },
      "execution_count": null,
      "outputs": []
    },
    {
      "cell_type": "code",
      "source": [
        "s_vectors,price_change = vectorized_statements(['/content/drive/MyDrive/newsVSchange.txt'])"
      ],
      "metadata": {
        "id": "GExoFpDhduF1"
      },
      "execution_count": null,
      "outputs": []
    },
    {
      "cell_type": "code",
      "source": [
        "n_samples = len(s_vectors)\n",
        "price_change\n",
        "s_vectors[0]"
      ],
      "metadata": {
        "colab": {
          "base_uri": "https://localhost:8080/"
        },
        "id": "U1snG8zZbVQX",
        "outputId": "9abc7cd2-fd02-4a63-dce3-d84114338a63"
      },
      "execution_count": null,
      "outputs": [
        {
          "output_type": "execute_result",
          "data": {
            "text/plain": [
              "tensor([[7.0800e+02],\n",
              "        [7.7000e+01],\n",
              "        [1.2540e+03],\n",
              "        [3.0000e+00],\n",
              "        [8.0060e+03],\n",
              "        [2.3460e+03],\n",
              "        [3.0000e+00],\n",
              "        [7.5100e+03],\n",
              "        [3.7510e+03],\n",
              "        [1.1200e+02],\n",
              "        [1.8370e+03]])"
            ]
          },
          "metadata": {},
          "execution_count": 161
        }
      ]
    },
    {
      "cell_type": "code",
      "source": [
        "batch_size = n_samples\n",
        "hidden_0 = torch.zeros(2,1,hidden_size)\n",
        "cellstate_0 = torch.zeros(2,1,hidden_size)\n"
      ],
      "metadata": {
        "id": "FpvittTWiGI9"
      },
      "execution_count": null,
      "outputs": []
    },
    {
      "cell_type": "code",
      "source": [
        "model_outputs = []\n",
        "for i in range(n_samples):\n",
        "  output_ = lstm.forward(s_vectors[i].unsqueeze(0),hidden_0,cellstate_0)\n",
        "  _,idx = torch.max(output_,dim=-1)\n",
        "  if idx.item()==0:\n",
        "    model_outputs.append('negative')\n",
        "  elif idx.item()==2:\n",
        "    model_outputs.append('positive')\n",
        "  else:\n",
        "    model_outputs.append('neutral')"
      ],
      "metadata": {
        "id": "ktbUeAFkiv2W"
      },
      "execution_count": null,
      "outputs": []
    },
    {
      "cell_type": "code",
      "source": [
        "model_outputs"
      ],
      "metadata": {
        "colab": {
          "base_uri": "https://localhost:8080/"
        },
        "id": "T42RUPyQro7v",
        "outputId": "81fed089-8b41-4191-ae90-225711f8a455"
      },
      "execution_count": null,
      "outputs": [
        {
          "output_type": "execute_result",
          "data": {
            "text/plain": [
              "['neutral',\n",
              " 'positive',\n",
              " 'neutral',\n",
              " 'positive',\n",
              " 'positive',\n",
              " 'neutral',\n",
              " 'neutral',\n",
              " 'neutral',\n",
              " 'neutral',\n",
              " 'neutral',\n",
              " 'neutral',\n",
              " 'positive']"
            ]
          },
          "metadata": {},
          "execution_count": 166
        }
      ]
    },
    {
      "cell_type": "code",
      "source": [
        "import matplotlib.pyplot as plt\n",
        "import pandas as pd\n",
        "import seaborn as sns\n",
        "\n",
        "# Create a DataFrame for plotting\n",
        "plot_df = pd.DataFrame({'Model Output': model_outputs, 'Price Change': price_change})\n",
        "\n",
        "# Create a box plot\n",
        "plt.figure(figsize=(8, 6))\n",
        "sns.boxplot(x='Model Output', y='Price Change', data=plot_df)\n",
        "plt.title('Price Change(%) Distribution by Model Sentiment')\n",
        "plt.xlabel('Model Sentiment')\n",
        "plt.ylabel('Price Change (%)')\n",
        "plt.grid(True)\n",
        "plt.show()"
      ],
      "metadata": {
        "colab": {
          "base_uri": "https://localhost:8080/",
          "height": 564
        },
        "id": "H27OsofurtR6",
        "outputId": "488c92dd-36af-4be8-fb0c-a825d55d803b"
      },
      "execution_count": null,
      "outputs": [
        {
          "output_type": "display_data",
          "data": {
            "text/plain": [
              "<Figure size 800x600 with 1 Axes>"
            ],
            "image/png": "[encoded data removed]"
          },
          "metadata": {}
        }
      ]
    },
    {
      "cell_type": "code",
      "source": [],
      "metadata": {
        "id": "elukY-Erxtse"
      },
      "execution_count": null,
      "outputs": []
    }
  ]
}