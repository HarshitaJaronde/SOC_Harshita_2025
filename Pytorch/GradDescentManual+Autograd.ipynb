{
 "cells": [
  {
   "cell_type": "code",
   "execution_count": 1,
   "id": "1a46b702-b52a-4403-ab75-8f3c3309c1f0",
   "metadata": {},
   "outputs": [],
   "source": [
    "import torch"
   ]
  },
  {
   "cell_type": "code",
   "execution_count": 2,
   "id": "6b701553-ce46-4b18-8549-53e2c4e32bb8",
   "metadata": {},
   "outputs": [],
   "source": [
    "x = torch.tensor(1.0)\n",
    "y = torch.tensor(2.0)\n",
    "w = torch.tensor(1.0, requires_grad=True)\n",
    "\n"
   ]
  },
  {
   "cell_type": "code",
   "execution_count": 4,
   "id": "87209a62-81de-4bc8-8998-6534e0e583db",
   "metadata": {},
   "outputs": [],
   "source": [
    "y_hat = w*x\n",
    "loss = (y_hat - y)*(y_hat -y)"
   ]
  },
  {
   "cell_type": "code",
   "execution_count": 5,
   "id": "eff8605f-226f-423d-ad30-5af08d1784ea",
   "metadata": {},
   "outputs": [
    {
     "name": "stdout",
     "output_type": "stream",
     "text": [
      "tensor(1., grad_fn=<MulBackward0>)\n"
     ]
    }
   ],
   "source": [
    "print(loss)"
   ]
  },
  {
   "cell_type": "code",
   "execution_count": 6,
   "id": "c414c492-9691-46f2-a97c-0b74db4331b0",
   "metadata": {},
   "outputs": [
    {
     "name": "stdout",
     "output_type": "stream",
     "text": [
      "tensor(-2.)\n"
     ]
    }
   ],
   "source": [
    "loss.backward()\n",
    "print(w.grad)"
   ]
  },
  {
   "cell_type": "code",
   "execution_count": 7,
   "id": "0cf0d097-a226-41fd-b510-e37bd87e58a4",
   "metadata": {},
   "outputs": [],
   "source": [
    "import numpy as np"
   ]
  },
  {
   "cell_type": "code",
   "execution_count": 8,
   "id": "e2020464-9b9d-48d0-82b7-db9132ba3300",
   "metadata": {},
   "outputs": [],
   "source": [
    "X  =np.array([1,2,3,4],dtype = np.float32)\n",
    "Y = np.array([2,4,6,8],dtype = np.float32)\n",
    "w = 0.0"
   ]
  },
  {
   "cell_type": "code",
   "execution_count": 9,
   "id": "c0063256-d5d9-4cc1-b4e5-ccc30feff273",
   "metadata": {},
   "outputs": [],
   "source": [
    "def forward(x):\n",
    "    return w*x"
   ]
  },
  {
   "cell_type": "code",
   "execution_count": 11,
   "id": "a3c5bf68-4a66-4b59-87de-9e26bd990b58",
   "metadata": {},
   "outputs": [],
   "source": [
    "def loss(y,y_predicted):\n",
    "    return ((y_predicted - y)**2).mean()"
   ]
  },
  {
   "cell_type": "code",
   "execution_count": 12,
   "id": "f9f577a2-5c2b-4a85-93b1-0889c3b9023e",
   "metadata": {},
   "outputs": [],
   "source": [
    "#gradient\n",
    "#mean_square_error = 1/N *(wx-y)**2\n",
    "#d(MSE)/dw = 1/N*2*x*(wx-y)"
   ]
  },
  {
   "cell_type": "code",
   "execution_count": 13,
   "id": "d5845e6e-a1fc-49e7-bf5d-c25143d31cf3",
   "metadata": {},
   "outputs": [],
   "source": [
    "def gradient(x,y,y_predicted):\n",
    "    return np.dot(2*x,y_predicted - y).mean()"
   ]
  },
  {
   "cell_type": "code",
   "execution_count": 14,
   "id": "39d7d59b-d278-467d-ba2a-78c2e8a6a720",
   "metadata": {},
   "outputs": [
    {
     "name": "stdout",
     "output_type": "stream",
     "text": [
      "Prediction before training: f(5) = 0.000\n"
     ]
    }
   ],
   "source": [
    "print(f'Prediction before training: f(5) = {forward(5):.3f}')"
   ]
  },
  {
   "cell_type": "code",
   "execution_count": 18,
   "id": "a1d539a6-4b46-410d-ab4b-3851a589b448",
   "metadata": {},
   "outputs": [],
   "source": [
    "learning_rate  =0.01\n",
    "n_iters = 15\n"
   ]
  },
  {
   "cell_type": "code",
   "execution_count": 19,
   "id": "b1da7f18-5c50-4095-a9d9-c8771c763832",
   "metadata": {},
   "outputs": [
    {
     "name": "stdout",
     "output_type": "stream",
     "text": [
      "epoch 1: w = 2.000 , loss = 0.00000033\n",
      "epoch 2: w = 2.000 , loss = 0.00000005\n",
      "epoch 3: w = 2.000 , loss = 0.00000001\n",
      "epoch 4: w = 2.000 , loss = 0.00000000\n",
      "epoch 5: w = 2.000 , loss = 0.00000000\n",
      "epoch 6: w = 2.000 , loss = 0.00000000\n",
      "epoch 7: w = 2.000 , loss = 0.00000000\n",
      "epoch 8: w = 2.000 , loss = 0.00000000\n",
      "epoch 9: w = 2.000 , loss = 0.00000000\n",
      "epoch 10: w = 2.000 , loss = 0.00000000\n",
      "epoch 11: w = 2.000 , loss = 0.00000000\n",
      "epoch 12: w = 2.000 , loss = 0.00000000\n",
      "epoch 13: w = 2.000 , loss = 0.00000000\n",
      "epoch 14: w = 2.000 , loss = 0.00000000\n",
      "epoch 15: w = 2.000 , loss = 0.00000000\n",
      "Prediction before training: f(5) = 10.000\n"
     ]
    }
   ],
   "source": [
    "for epoch in range(n_iters):\n",
    "    y_pred = forward(X)\n",
    "    l = loss(y_pred,Y)\n",
    "    gradient_loss_w = gradient(X,Y,y_pred)\n",
    "    w-=learning_rate*gradient_loss_w\n",
    "    if epoch%1==0:\n",
    "        print(f'epoch {epoch+1}: w = {w:.3f} , loss = {l:.8f}')\n",
    "\n",
    "print(f'Prediction before training: f(5) = {forward(5):.3f}')"
   ]
  },
  {
   "cell_type": "code",
   "execution_count": 20,
   "id": "355558fd-a639-424e-ab6f-9147be38c766",
   "metadata": {},
   "outputs": [],
   "source": [
    "P=torch.tensor([1,2,3,4],dtype = torch.float32)\n",
    "Q = torch.tensor([2,4,6,8],dtype = torch.float32)\n"
   ]
  },
  {
   "cell_type": "code",
   "execution_count": 51,
   "id": "45d560be-c718-4941-b0d3-4623cb287ea0",
   "metadata": {},
   "outputs": [],
   "source": [
    "r = torch.tensor(0.0,dtype = torch.float32,requires_grad = True)"
   ]
  },
  {
   "cell_type": "code",
   "execution_count": 52,
   "id": "47500321-7f14-4511-b94c-684451266b5d",
   "metadata": {},
   "outputs": [],
   "source": [
    "def forward_p(p):\n",
    "    return p*r"
   ]
  },
  {
   "cell_type": "code",
   "execution_count": 53,
   "id": "8c822cc2-f79e-4824-b2aa-f53d2f77cf6e",
   "metadata": {},
   "outputs": [],
   "source": [
    "def loss_(q,q_pred):\n",
    "    return ((q-q_pred)**2).mean()"
   ]
  },
  {
   "cell_type": "code",
   "execution_count": 54,
   "id": "3cf17e41-3cc7-43ba-84ab-8f3e5f341922",
   "metadata": {},
   "outputs": [
    {
     "name": "stdout",
     "output_type": "stream",
     "text": [
      "Prediction before training : f(5) = 0.000\n"
     ]
    }
   ],
   "source": [
    "print(f'Prediction before training : f(5) = {forward_p(5):.3f}')"
   ]
  },
  {
   "cell_type": "code",
   "execution_count": 55,
   "id": "42d9d24f-2c52-409b-a5ce-07e747e0bc16",
   "metadata": {},
   "outputs": [],
   "source": [
    "lr = 0.01"
   ]
  },
  {
   "cell_type": "code",
   "execution_count": 59,
   "id": "87f54dd2-f6b5-4913-a034-74abd60a2c86",
   "metadata": {},
   "outputs": [
    {
     "name": "stdout",
     "output_type": "stream",
     "text": [
      "epoch 1: w = 1.997 , loss = 0.00006770\n",
      "epoch 2: w = 1.998 , loss = 0.00004891\n",
      "epoch 3: w = 1.998 , loss = 0.00003534\n",
      "epoch 4: w = 1.998 , loss = 0.00002553\n",
      "epoch 5: w = 1.999 , loss = 0.00001845\n",
      "epoch 6: w = 1.999 , loss = 0.00001333\n",
      "epoch 7: w = 1.999 , loss = 0.00000963\n",
      "epoch 8: w = 1.999 , loss = 0.00000696\n",
      "epoch 9: w = 1.999 , loss = 0.00000503\n",
      "epoch 10: w = 1.999 , loss = 0.00000363\n",
      "epoch 11: w = 1.999 , loss = 0.00000262\n",
      "epoch 12: w = 2.000 , loss = 0.00000190\n",
      "epoch 13: w = 2.000 , loss = 0.00000137\n",
      "epoch 14: w = 2.000 , loss = 0.00000099\n",
      "epoch 15: w = 2.000 , loss = 0.00000071\n",
      "epoch 16: w = 2.000 , loss = 0.00000052\n",
      "epoch 17: w = 2.000 , loss = 0.00000037\n",
      "epoch 18: w = 2.000 , loss = 0.00000027\n",
      "epoch 19: w = 2.000 , loss = 0.00000019\n",
      "epoch 20: w = 2.000 , loss = 0.00000014\n",
      "epoch 21: w = 2.000 , loss = 0.00000010\n",
      "epoch 22: w = 2.000 , loss = 0.00000007\n",
      "epoch 23: w = 2.000 , loss = 0.00000005\n",
      "epoch 24: w = 2.000 , loss = 0.00000004\n",
      "epoch 25: w = 2.000 , loss = 0.00000003\n",
      "Prediction before training : f(5) = 10.000\n"
     ]
    }
   ],
   "source": [
    "for epoch in range(25):\n",
    "    q_pred = forward_p(P)\n",
    "    calc_loss  = loss_(Q,q_pred)\n",
    "    calc_loss.backward()\n",
    "    with torch.no_grad():\n",
    "        r-=lr*r.grad\n",
    "    r.grad.zero_()\n",
    "    \n",
    "    if epoch%1==0:\n",
    "        print(f'epoch {epoch+1}: w = {r:.3f} , loss = {calc_loss:.8f}')\n",
    "\n",
    "print(f'Prediction before training : f(5) = {forward_p(5):.3f}')        "
   ]
  },
  {
   "cell_type": "code",
   "execution_count": null,
   "id": "3425dcdf-a8d7-429a-b409-2f4654ce2e78",
   "metadata": {},
   "outputs": [],
   "source": []
  }
 ],
 "metadata": {
  "kernelspec": {
   "display_name": "spacy-env-30-12-2024",
   "language": "python",
   "name": "spacy-env-30-12-2024"
  },
  "language_info": {
   "codemirror_mode": {
    "name": "ipython",
    "version": 3
   },
   "file_extension": ".py",
   "mimetype": "text/x-python",
   "name": "python",
   "nbconvert_exporter": "python",
   "pygments_lexer": "ipython3",
   "version": "3.11.0"
  }
 },
 "nbformat": 4,
 "nbformat_minor": 5
}
