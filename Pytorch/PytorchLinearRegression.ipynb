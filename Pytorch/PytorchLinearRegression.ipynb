{
 "cells": [
  {
   "cell_type": "code",
   "execution_count": 30,
   "id": "46599a81-8f8b-4498-8afd-acd635e9038a",
   "metadata": {},
   "outputs": [],
   "source": [
    "import torch"
   ]
  },
  {
   "cell_type": "code",
   "execution_count": 31,
   "id": "e7f1d780-133b-47ba-a61d-500484cc1531",
   "metadata": {},
   "outputs": [],
   "source": [
    "#training loop\n",
    "# - forward pass\n",
    "# - backward pass\n",
    "# - update the weights"
   ]
  },
  {
   "cell_type": "code",
   "execution_count": 32,
   "id": "bade5190-3af7-450f-9b98-61317dbe9131",
   "metadata": {},
   "outputs": [],
   "source": [
    "import torch.nn as nn"
   ]
  },
  {
   "cell_type": "code",
   "execution_count": 33,
   "id": "335a03fe-1933-48a0-a59c-3547f83a8df7",
   "metadata": {},
   "outputs": [],
   "source": [
    "X = torch.tensor([[1],[2],[3],[4]],dtype = torch.float32)\n",
    "Y = torch.tensor([[2],[4],[6],[8]],dtype = torch.float32)"
   ]
  },
  {
   "cell_type": "code",
   "execution_count": 34,
   "id": "3fde0771-c9ed-4793-8116-167e4091791a",
   "metadata": {},
   "outputs": [],
   "source": [
    "X_test = torch.tensor([5],dtype = torch.float32)"
   ]
  },
  {
   "cell_type": "code",
   "execution_count": 35,
   "id": "8078b051-2f6a-4ef5-9769-04c289b20dd4",
   "metadata": {},
   "outputs": [
    {
     "name": "stdout",
     "output_type": "stream",
     "text": [
      "4   1\n"
     ]
    }
   ],
   "source": [
    "n_samples,n_features = X.shape\n",
    "print(n_samples,\" \",n_features)"
   ]
  },
  {
   "cell_type": "code",
   "execution_count": 36,
   "id": "bb92ba3c-be04-441b-b33c-066b4be1921a",
   "metadata": {},
   "outputs": [],
   "source": [
    "input_size  = n_features\n",
    "output_size = n_features\n",
    "\n",
    "model = nn.Linear(input_size,output_size)"
   ]
  },
  {
   "cell_type": "code",
   "execution_count": 37,
   "id": "91f5a485-6fc9-45c5-8e07-9e976269761c",
   "metadata": {},
   "outputs": [
    {
     "name": "stdout",
     "output_type": "stream",
     "text": [
      "Prediction before training: f(5) = -0.280\n"
     ]
    }
   ],
   "source": [
    "print(f'Prediction before training: f(5) = {model(X_test).item():.3f}')"
   ]
  },
  {
   "cell_type": "code",
   "execution_count": 38,
   "id": "5b67f338-d551-40c7-b3c1-885f337caf3a",
   "metadata": {},
   "outputs": [],
   "source": [
    "learning_rate = 0.01\n",
    "n_iters = 50"
   ]
  },
  {
   "cell_type": "code",
   "execution_count": 39,
   "id": "7bbe805f-d130-4259-95d4-4528d781a1c1",
   "metadata": {},
   "outputs": [],
   "source": [
    "loss = nn.MSELoss()\n",
    "optimiser = torch.optim.SGD(model.parameters(),lr = learning_rate)"
   ]
  },
  {
   "cell_type": "code",
   "execution_count": 50,
   "id": "d0dcded9-0328-47ba-8fe3-6b4e60311424",
   "metadata": {},
   "outputs": [
    {
     "name": "stdout",
     "output_type": "stream",
     "text": [
      "epoch 1 w = 2.000, loss = 0.00000002\n",
      "epoch 11 w = 2.000, loss = 0.00000001\n",
      "epoch 21 w = 2.000, loss = 0.00000001\n",
      "epoch 31 w = 2.000, loss = 0.00000001\n",
      "epoch 41 w = 2.000, loss = 0.00000001\n",
      "epoch 51 w = 2.000, loss = 0.00000001\n",
      "epoch 61 w = 2.000, loss = 0.00000001\n",
      "epoch 71 w = 2.000, loss = 0.00000001\n",
      "epoch 81 w = 2.000, loss = 0.00000001\n",
      "epoch 91 w = 2.000, loss = 0.00000001\n",
      "Prediction after training: f(5) = 10.000\n"
     ]
    }
   ],
   "source": [
    "for epoch in range(100):\n",
    "    y_pred = model(X) # forward pass i.e w*x\n",
    "    l = loss(Y,y_pred) # MSE is calculated\n",
    "    l.backward() # backward pass for finding dl/dw\n",
    "    optimiser.step() # the w-= learning_rate*dl/dw step\n",
    "    optimiser.zero_grad() # resets the gradient of w to zero\n",
    "\n",
    "    if epoch%10==0:\n",
    "        [w,b] = model.parameters()\n",
    "        print(f'epoch {epoch+1} w = {w[0][0].item():.3f}, loss = {l:.8f}')\n",
    "        \n",
    "print(f'Prediction after training: f(5) = {model(X_test).item():.3f}')     "
   ]
  },
  {
   "cell_type": "code",
   "execution_count": null,
   "id": "63c50e88-5e8d-4b19-a594-7ed9f703004c",
   "metadata": {},
   "outputs": [],
   "source": []
  }
 ],
 "metadata": {
  "kernelspec": {
   "display_name": "spacy-env-30-12-2024",
   "language": "python",
   "name": "spacy-env-30-12-2024"
  },
  "language_info": {
   "codemirror_mode": {
    "name": "ipython",
    "version": 3
   },
   "file_extension": ".py",
   "mimetype": "text/x-python",
   "name": "python",
   "nbconvert_exporter": "python",
   "pygments_lexer": "ipython3",
   "version": "3.11.0"
  }
 },
 "nbformat": 4,
 "nbformat_minor": 5
}
