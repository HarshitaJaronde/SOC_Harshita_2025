{
 "cells": [
  {
   "cell_type": "code",
   "execution_count": 1,
   "id": "1648ac30-9f51-4412-8957-2d4b83242047",
   "metadata": {},
   "outputs": [],
   "source": [
    "import torch"
   ]
  },
  {
   "cell_type": "code",
   "execution_count": 2,
   "id": "99c47310-d79e-4fe6-81ce-f4afe872d3d1",
   "metadata": {},
   "outputs": [
    {
     "name": "stdout",
     "output_type": "stream",
     "text": [
      "tensor([0.1579, 0.2922, 0.6932], requires_grad=True)\n"
     ]
    }
   ],
   "source": [
    "x = torch.rand(3,requires_grad = True)\n",
    "print(x)"
   ]
  },
  {
   "cell_type": "code",
   "execution_count": 3,
   "id": "2397f25a-e8b4-4a5b-afe4-ccf74533b8c5",
   "metadata": {},
   "outputs": [
    {
     "name": "stdout",
     "output_type": "stream",
     "text": [
      "tensor([2.1579, 2.2922, 2.6932], grad_fn=<AddBackward0>)\n"
     ]
    }
   ],
   "source": [
    "y = x+2\n",
    "print(y)"
   ]
  },
  {
   "cell_type": "code",
   "execution_count": 4,
   "id": "8c0e95a5-ebd1-4bed-817c-84199292351a",
   "metadata": {},
   "outputs": [
    {
     "name": "stdout",
     "output_type": "stream",
     "text": [
      "tensor([4.6564, 5.2544, 7.2534], grad_fn=<MulBackward0>)\n"
     ]
    }
   ],
   "source": [
    "z = y*y\n",
    "print(z)"
   ]
  },
  {
   "cell_type": "code",
   "execution_count": 5,
   "id": "31874b50-a3d6-4780-a1fa-50fdde37d4ec",
   "metadata": {},
   "outputs": [
    {
     "name": "stdout",
     "output_type": "stream",
     "text": [
      "tensor([1.4386, 1.5282, 1.7955])\n"
     ]
    }
   ],
   "source": [
    "z = z.mean() # f(x,y,z) = (x + y+ z)/3\n",
    "z.backward() #dz/dx\n",
    "print(x.grad)"
   ]
  },
  {
   "cell_type": "code",
   "execution_count": 7,
   "id": "132f048a-6005-4d6a-b98f-6d7e12e3f575",
   "metadata": {},
   "outputs": [
    {
     "name": "stdout",
     "output_type": "stream",
     "text": [
      "tensor([0.5547, 0.0879, 0.2193], requires_grad=True)\n"
     ]
    }
   ],
   "source": [
    "# for a vector field, we can't directly use .backward() to find gradient\n",
    "p = torch.rand(3,requires_grad = True)\n",
    "print(p)"
   ]
  },
  {
   "cell_type": "code",
   "execution_count": 8,
   "id": "4a943ab5-69d0-41ff-bf7d-3e989cbc8f40",
   "metadata": {},
   "outputs": [
    {
     "name": "stdout",
     "output_type": "stream",
     "text": [
      "tensor([0.3077, 0.0077, 0.0481], grad_fn=<MulBackward0>)\n",
      "tensor([0.1109, 0.1759, 0.0004])\n"
     ]
    }
   ],
   "source": [
    "q = p*p\n",
    "print(q)\n",
    "v = torch.tensor([0.1,1,0.001],dtype = torch.float32)\n",
    "q.backward(v)\n",
    "print(p.grad)"
   ]
  },
  {
   "cell_type": "code",
   "execution_count": 10,
   "id": "375bc869-c981-49b4-991b-b1409e235e1f",
   "metadata": {},
   "outputs": [
    {
     "name": "stdout",
     "output_type": "stream",
     "text": [
      "tensor([0.5547, 0.0879, 0.2193])\n"
     ]
    }
   ],
   "source": [
    "# for a function differently associated with p, we now cannot calculte its gradient as this has already been done for q, so we need to detach the reuqires_grad attribute and set it false\n",
    "# the gradient for q wrt p has been stored in the .grad attribute of p\n",
    "p.requires_grad_(False)\n",
    "print(p)"
   ]
  },
  {
   "cell_type": "code",
   "execution_count": 11,
   "id": "0b1f1b91-131a-48fd-949e-9765ad1a0b81",
   "metadata": {},
   "outputs": [
    {
     "name": "stdout",
     "output_type": "stream",
     "text": [
      "tensor([0.5547, 0.0879, 0.2193])\n"
     ]
    }
   ],
   "source": [
    "# or we could\n",
    "p = p.detach()\n",
    "print(p)"
   ]
  },
  {
   "cell_type": "code",
   "execution_count": 12,
   "id": "c314017a-afda-4af9-91a1-49b7fa057f97",
   "metadata": {},
   "outputs": [
    {
     "name": "stdout",
     "output_type": "stream",
     "text": [
      "tensor([2.1579, 2.2922, 2.6932])\n"
     ]
    }
   ],
   "source": [
    "# or\n",
    "with torch.no_grad():\n",
    "    y  = x+2\n",
    "print(y)"
   ]
  },
  {
   "cell_type": "code",
   "execution_count": 13,
   "id": "5c0a3d6b-8a40-4a4a-b08d-b91777c57e26",
   "metadata": {},
   "outputs": [
    {
     "name": "stdout",
     "output_type": "stream",
     "text": [
      "tensor([0.5547, 0.0879, 0.2193])\n"
     ]
    }
   ],
   "source": [
    "with torch.no_grad():\n",
    "    p = p\n",
    "print(p)"
   ]
  },
  {
   "cell_type": "code",
   "execution_count": 14,
   "id": "212cdaf0-d6cf-4f6d-9cfb-8035c2fff664",
   "metadata": {},
   "outputs": [],
   "source": [
    "# so these we the three ways in which we can stop pytorch from creating gradient functions and tracking the history of our computational graph\n"
   ]
  },
  {
   "cell_type": "code",
   "execution_count": 26,
   "id": "51df7f2b-1edf-498e-8f97-24119b8fe76b",
   "metadata": {},
   "outputs": [
    {
     "name": "stdout",
     "output_type": "stream",
     "text": [
      "tensor([1., 1., 1., 1.], requires_grad=True)\n",
      "tensor([3., 3., 3., 3.])\n"
     ]
    }
   ],
   "source": [
    "weights= torch.ones(4,requires_grad = True)\n",
    "print(weights)\n",
    "for epoch in range(3):\n",
    "    model_output = (weights*3).sum()\n",
    "    \n",
    "model_output.backward()\n",
    "print(weights.grad)"
   ]
  },
  {
   "cell_type": "code",
   "execution_count": 24,
   "id": "fb91899d-8496-4ecc-89db-785515e1f5a8",
   "metadata": {},
   "outputs": [
    {
     "name": "stdout",
     "output_type": "stream",
     "text": [
      "tensor([1., 1., 1., 1.], requires_grad=True)\n",
      "tensor([3., 3., 3., 3.])\n",
      "tensor([6., 6., 6., 6.])\n",
      "tensor([9., 9., 9., 9.])\n"
     ]
    }
   ],
   "source": [
    "weights= torch.ones(4,requires_grad = True)\n",
    "print(weights)\n",
    "for epoch in range(3):\n",
    "    model_output = (weights*3).sum()\n",
    "    model_output.backward()\n",
    "    print(weights.grad)\n",
    "# as the backwards operation is in the loop the gradient is added to the previous ones"
   ]
  },
  {
   "cell_type": "code",
   "execution_count": 28,
   "id": "c4f63e6e-2723-4393-af6a-2edf8df5a485",
   "metadata": {},
   "outputs": [
    {
     "name": "stdout",
     "output_type": "stream",
     "text": [
      "tensor([1., 1., 1., 1.], requires_grad=True)\n",
      "tensor([3., 3., 3., 3.])\n",
      "tensor([3., 3., 3., 3.])\n",
      "tensor([3., 3., 3., 3.])\n"
     ]
    }
   ],
   "source": [
    "weights= torch.ones(4,requires_grad = True)\n",
    "print(weights)\n",
    "for epoch in range(3):\n",
    "    model_output = (weights*3).sum()\n",
    "    model_output.backward()\n",
    "    print(weights.grad)\n",
    "    weights.grad.zero_()\n",
    "# now we repeatedly make the gradient zero so that the accumulation does nnot happen"
   ]
  },
  {
   "cell_type": "code",
   "execution_count": null,
   "id": "979ae89a-ef1a-4e2a-8a4b-39d3271976ca",
   "metadata": {},
   "outputs": [],
   "source": [
    "optimizer = torch.optim.SGD(weights,lr = 0.01)\n"
   ]
  }
 ],
 "metadata": {
  "kernelspec": {
   "display_name": "spacy-env-30-12-2024",
   "language": "python",
   "name": "spacy-env-30-12-2024"
  },
  "language_info": {
   "codemirror_mode": {
    "name": "ipython",
    "version": 3
   },
   "file_extension": ".py",
   "mimetype": "text/x-python",
   "name": "python",
   "nbconvert_exporter": "python",
   "pygments_lexer": "ipython3",
   "version": "3.11.0"
  }
 },
 "nbformat": 4,
 "nbformat_minor": 5
}
